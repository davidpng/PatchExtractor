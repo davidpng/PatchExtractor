{
 "cells": [
  {
   "cell_type": "code",
   "execution_count": 3,
   "metadata": {},
   "outputs": [],
   "source": [
    "import h5py \n",
    "import numpy as np\n",
    "from pathlib import Path\n",
    "from tqdm import tqdm\n",
    "import matplotlib.pyplot as plt\n",
    "import os\n",
    "input_directory = \"/Users/dng/Desktop/WSI Project/FL_patch_files\"\n",
    "output_directory = \"/Users/dng/Desktop/WSI Project/FL_Patches\"\n",
    "\n"
   ]
  },
  {
   "cell_type": "code",
   "execution_count": 4,
   "metadata": {},
   "outputs": [],
   "source": [
    "if not os.path.isdir(output_directory):\n",
    "    try:\n",
    "        os.mkdir(output_directory)\n",
    "    except OSError:\n",
    "        print (\"Creation of the directory {} failed\".format(output_directory))\n",
    "    else:\n",
    "        print (\"Successfully created the directory {} \".format(output_directory))"
   ]
  },
  {
   "cell_type": "code",
   "execution_count": 9,
   "metadata": {},
   "outputs": [],
   "source": [
    "Patch_Files=[]\n",
    "for files in Path(input_directory).glob(\"*.hdf5\"):\n",
    "    Patch_Files.append(Path(files))"
   ]
  },
  {
   "cell_type": "code",
   "execution_count": 11,
   "metadata": {},
   "outputs": [
    {
     "name": "stderr",
     "output_type": "stream",
     "text": [
      " 19%|█▉        | 6/32 [00:00<00:00, 55.19it/s]"
     ]
    },
    {
     "name": "stdout",
     "output_type": "stream",
     "text": [
      "HP19-341 HE.svs_(1.00,12655,7026,1413,1464).jpg\n"
     ]
    },
    {
     "name": "stderr",
     "output_type": "stream",
     "text": [
      "100%|██████████| 32/32 [00:00<00:00, 65.11it/s]\n",
      " 39%|███▉      | 9/23 [00:00<00:00, 83.60it/s]"
     ]
    },
    {
     "name": "stdout",
     "output_type": "stream",
     "text": [
      "HP19-341 HE.svs_(1.00,13786,6010,1356,1328).jpg\n"
     ]
    },
    {
     "name": "stderr",
     "output_type": "stream",
     "text": [
      "100%|██████████| 23/23 [00:00<00:00, 85.06it/s]\n",
      " 18%|█▊        | 7/38 [00:00<00:00, 67.32it/s]"
     ]
    },
    {
     "name": "stdout",
     "output_type": "stream",
     "text": [
      "HP19-341 HE.svs_(1.00,16323,37636,1266,2062).jpg\n"
     ]
    },
    {
     "name": "stderr",
     "output_type": "stream",
     "text": [
      "100%|██████████| 38/38 [00:00<00:00, 70.00it/s]\n",
      " 11%|█         | 7/65 [00:00<00:00, 69.49it/s]"
     ]
    },
    {
     "name": "stdout",
     "output_type": "stream",
     "text": [
      "HP19-341 HE.svs_(1.00,16390,5768,2178,1930).jpg\n"
     ]
    },
    {
     "name": "stderr",
     "output_type": "stream",
     "text": [
      "100%|██████████| 65/65 [00:00<00:00, 76.88it/s]\n",
      "100%|██████████| 11/11 [00:00<00:00, 86.03it/s]\n",
      "  0%|          | 0/58 [00:00<?, ?it/s]"
     ]
    },
    {
     "name": "stdout",
     "output_type": "stream",
     "text": [
      "HP19-341 HE.svs_(1.00,17764,38449,763,1090).jpg\n",
      "HP19-341 HE.svs_(1.00,18709,36705,1981,1683).jpg\n"
     ]
    },
    {
     "name": "stderr",
     "output_type": "stream",
     "text": [
      "100%|██████████| 58/58 [00:00<00:00, 75.67it/s]\n",
      " 12%|█▏        | 6/52 [00:00<00:00, 54.77it/s]"
     ]
    },
    {
     "name": "stdout",
     "output_type": "stream",
     "text": [
      "HP19-341 HE.svs_(1.00,18855,34775,1959,1593).jpg\n"
     ]
    },
    {
     "name": "stderr",
     "output_type": "stream",
     "text": [
      "100%|██████████| 52/52 [00:00<00:00, 54.17it/s]\n",
      " 12%|█▏        | 8/66 [00:00<00:00, 75.97it/s]"
     ]
    },
    {
     "name": "stdout",
     "output_type": "stream",
     "text": [
      "HP19-341 HE.svs_(1.00,20802,33695,1936,1981).jpg\n"
     ]
    },
    {
     "name": "stderr",
     "output_type": "stream",
     "text": [
      "100%|██████████| 66/66 [00:00<00:00, 78.10it/s]\n",
      " 36%|███▌      | 9/25 [00:00<00:00, 80.80it/s]"
     ]
    },
    {
     "name": "stdout",
     "output_type": "stream",
     "text": [
      "HP19-341 HE.svs_(1.00,20947,19010,1210,1379).jpg\n"
     ]
    },
    {
     "name": "stderr",
     "output_type": "stream",
     "text": [
      "100%|██████████| 25/25 [00:00<00:00, 75.23it/s]\n",
      " 44%|████▍     | 8/18 [00:00<00:00, 76.03it/s]"
     ]
    },
    {
     "name": "stdout",
     "output_type": "stream",
     "text": [
      "HP19-341 HE.svs_(1.00,21273,41506,1006,1517).jpg\n"
     ]
    },
    {
     "name": "stderr",
     "output_type": "stream",
     "text": [
      "100%|██████████| 18/18 [00:00<00:00, 78.29it/s]\n",
      " 23%|██▎       | 8/35 [00:00<00:00, 73.51it/s]"
     ]
    },
    {
     "name": "stdout",
     "output_type": "stream",
     "text": [
      "HP19-341 HE.svs_(1.00,21684,20720,1598,1486).jpg\n"
     ]
    },
    {
     "name": "stderr",
     "output_type": "stream",
     "text": [
      "100%|██████████| 35/35 [00:00<00:00, 77.16it/s]\n",
      " 20%|██        | 8/40 [00:00<00:00, 74.39it/s]"
     ]
    },
    {
     "name": "stdout",
     "output_type": "stream",
     "text": [
      "HP19-341 HE.svs_(1.00,22539,16544,1594,1778).jpg\n"
     ]
    },
    {
     "name": "stderr",
     "output_type": "stream",
     "text": [
      "100%|██████████| 40/40 [00:00<00:00, 74.05it/s]\n",
      "  7%|▋         | 7/102 [00:00<00:01, 64.77it/s]"
     ]
    },
    {
     "name": "stdout",
     "output_type": "stream",
     "text": [
      "HP19-341 HE.svs_(1.00,22810,35220,2476,2380).jpg\n"
     ]
    },
    {
     "name": "stderr",
     "output_type": "stream",
     "text": [
      "100%|██████████| 102/102 [00:01<00:00, 61.58it/s]\n",
      " 11%|█         | 6/54 [00:00<00:00, 50.87it/s]"
     ]
    },
    {
     "name": "stdout",
     "output_type": "stream",
     "text": [
      "HP19-341 HE.svs_(1.00,23467,18995,1944,1777).jpg\n"
     ]
    },
    {
     "name": "stderr",
     "output_type": "stream",
     "text": [
      "100%|██████████| 54/54 [00:01<00:00, 53.79it/s]\n",
      " 13%|█▎        | 7/52 [00:00<00:00, 63.32it/s]"
     ]
    },
    {
     "name": "stdout",
     "output_type": "stream",
     "text": [
      "HP19-341 HE.svs_(1.00,23877,15075,1768,1785).jpg\n"
     ]
    },
    {
     "name": "stderr",
     "output_type": "stream",
     "text": [
      "100%|██████████| 52/52 [00:00<00:00, 65.02it/s]\n",
      " 24%|██▎       | 8/34 [00:00<00:00, 79.68it/s]"
     ]
    },
    {
     "name": "stdout",
     "output_type": "stream",
     "text": [
      "HP19-341 HE.svs_(1.00,24364,41414,1533,1416).jpg\n"
     ]
    },
    {
     "name": "stderr",
     "output_type": "stream",
     "text": [
      "100%|██████████| 34/34 [00:00<00:00, 67.84it/s]\n",
      " 36%|███▋      | 8/22 [00:00<00:00, 71.78it/s]"
     ]
    },
    {
     "name": "stdout",
     "output_type": "stream",
     "text": [
      "HP19-341 HE.svs_(1.00,25736,18333,1107,1274).jpg\n"
     ]
    },
    {
     "name": "stderr",
     "output_type": "stream",
     "text": [
      "100%|██████████| 22/22 [00:00<00:00, 74.80it/s]\n",
      " 15%|█▌        | 6/39 [00:00<00:00, 55.81it/s]"
     ]
    },
    {
     "name": "stdout",
     "output_type": "stream",
     "text": [
      "HP19-341 HE.svs_(1.00,26842,14832,1559,1509).jpg\n"
     ]
    },
    {
     "name": "stderr",
     "output_type": "stream",
     "text": [
      "100%|██████████| 39/39 [00:00<00:00, 57.33it/s]\n",
      "  5%|▌         | 5/91 [00:00<00:01, 44.01it/s]"
     ]
    },
    {
     "name": "stdout",
     "output_type": "stream",
     "text": [
      "HP19-341 HE.svs_(1.00,27445,17898,2246,2321).jpg\n"
     ]
    },
    {
     "name": "stderr",
     "output_type": "stream",
     "text": [
      "100%|██████████| 91/91 [00:01<00:00, 50.45it/s]\n",
      " 21%|██        | 7/34 [00:00<00:00, 66.07it/s]"
     ]
    },
    {
     "name": "stdout",
     "output_type": "stream",
     "text": [
      "HP19-341 HE.svs_(1.00,27446,41715,1441,1475).jpg\n"
     ]
    },
    {
     "name": "stderr",
     "output_type": "stream",
     "text": [
      "100%|██████████| 34/34 [00:00<00:00, 70.54it/s]\n",
      " 12%|█▏        | 6/52 [00:00<00:00, 49.24it/s]"
     ]
    },
    {
     "name": "stdout",
     "output_type": "stream",
     "text": [
      "HP19-341 HE.svs_(1.00,28669,31724,1718,2178).jpg\n"
     ]
    },
    {
     "name": "stderr",
     "output_type": "stream",
     "text": [
      "100%|██████████| 52/52 [00:00<00:00, 56.90it/s]\n",
      " 50%|█████     | 8/16 [00:00<00:00, 72.18it/s]"
     ]
    },
    {
     "name": "stdout",
     "output_type": "stream",
     "text": [
      "HP19-341 HE.svs_(1.00,28987,40735,1207,964).jpg\n"
     ]
    },
    {
     "name": "stderr",
     "output_type": "stream",
     "text": [
      "100%|██████████| 16/16 [00:00<00:00, 68.14it/s]\n",
      "  5%|▌         | 5/91 [00:00<00:02, 40.89it/s]"
     ]
    },
    {
     "name": "stdout",
     "output_type": "stream",
     "text": [
      "HP19-341 HE.svs_(1.00,29690,41723,2346,2405).jpg\n"
     ]
    },
    {
     "name": "stderr",
     "output_type": "stream",
     "text": [
      "100%|██████████| 91/91 [00:01<00:00, 55.95it/s]\n",
      " 10%|█         | 6/60 [00:00<00:01, 52.86it/s]"
     ]
    },
    {
     "name": "stdout",
     "output_type": "stream",
     "text": [
      "HP19-341 HE.svs_(1.00,31642,34068,1952,1911).jpg\n"
     ]
    },
    {
     "name": "stderr",
     "output_type": "stream",
     "text": [
      "100%|██████████| 60/60 [00:00<00:00, 63.61it/s]\n",
      "  0%|          | 2/706 [00:00<00:57, 12.29it/s]"
     ]
    },
    {
     "name": "stdout",
     "output_type": "stream",
     "text": [
      "HP19-294 HE.svs_(1.00,22661,63637,8326,4477).jpg\n"
     ]
    },
    {
     "name": "stderr",
     "output_type": "stream",
     "text": [
      "100%|██████████| 706/706 [00:47<00:00, 16.07it/s]\n",
      "  6%|▌         | 6/107 [00:00<00:01, 58.92it/s]"
     ]
    },
    {
     "name": "stdout",
     "output_type": "stream",
     "text": [
      "HP19-294 HE.svs_(1.00,23626,56986,2471,2526).jpg\n"
     ]
    },
    {
     "name": "stderr",
     "output_type": "stream",
     "text": [
      "100%|██████████| 107/107 [00:01<00:00, 59.64it/s]\n",
      "  0%|          | 2/530 [00:00<00:28, 18.40it/s]"
     ]
    },
    {
     "name": "stdout",
     "output_type": "stream",
     "text": [
      "HP19-294 HE.svs_(1.00,33193,46214,5720,5074).jpg\n"
     ]
    },
    {
     "name": "stderr",
     "output_type": "stream",
     "text": [
      "100%|██████████| 530/530 [00:28<00:00, 18.71it/s]\n",
      "  0%|          | 2/661 [00:00<00:50, 13.03it/s]"
     ]
    },
    {
     "name": "stdout",
     "output_type": "stream",
     "text": [
      "HP19-294 HE.svs_(1.00,33842,52181,7110,5507).jpg\n"
     ]
    },
    {
     "name": "stderr",
     "output_type": "stream",
     "text": [
      "100%|██████████| 661/661 [00:45<00:00, 14.58it/s]\n",
      "  1%|          | 3/339 [00:00<00:13, 25.11it/s]"
     ]
    },
    {
     "name": "stdout",
     "output_type": "stream",
     "text": [
      "HP19-294 HE.svs_(1.00,43332,33526,3888,5281).jpg\n"
     ]
    },
    {
     "name": "stderr",
     "output_type": "stream",
     "text": [
      "100%|██████████| 339/339 [00:13<00:00, 28.15it/s]\n",
      "  1%|          | 3/415 [00:00<00:18, 22.38it/s]"
     ]
    },
    {
     "name": "stdout",
     "output_type": "stream",
     "text": [
      "HP19-294 HE.svs_(1.00,47878,45300,3952,6197).jpg\n"
     ]
    },
    {
     "name": "stderr",
     "output_type": "stream",
     "text": [
      "100%|██████████| 415/415 [00:17<00:00, 23.69it/s]\n",
      "  7%|▋         | 6/89 [00:00<00:01, 58.84it/s]"
     ]
    },
    {
     "name": "stdout",
     "output_type": "stream",
     "text": [
      "HP19-294 HE.svs_(1.00,48960,36239,2256,2485).jpg\n"
     ]
    },
    {
     "name": "stderr",
     "output_type": "stream",
     "text": [
      "100%|██████████| 89/89 [00:01<00:00, 60.22it/s]\n",
      "  0%|          | 1/1101 [00:00<01:55,  9.50it/s]"
     ]
    },
    {
     "name": "stdout",
     "output_type": "stream",
     "text": [
      "HP19-294 HE.svs_(1.00,66936,18574,7080,9288).jpg\n"
     ]
    },
    {
     "name": "stderr",
     "output_type": "stream",
     "text": [
      "100%|██████████| 1101/1101 [01:48<00:00, 10.12it/s]\n",
      "  3%|▎         | 5/160 [00:00<00:03, 45.16it/s]"
     ]
    },
    {
     "name": "stdout",
     "output_type": "stream",
     "text": [
      "HP19-294 HE.svs_(1.00,75900,69224,2908,3359).jpg\n"
     ]
    },
    {
     "name": "stderr",
     "output_type": "stream",
     "text": [
      "100%|██████████| 160/160 [00:03<00:00, 45.90it/s]\n",
      "  1%|          | 3/274 [00:00<00:09, 29.52it/s]"
     ]
    },
    {
     "name": "stdout",
     "output_type": "stream",
     "text": [
      "HP19-294 HE.svs_(1.00,79517,74315,4313,4013).jpg\n"
     ]
    },
    {
     "name": "stderr",
     "output_type": "stream",
     "text": [
      "100%|██████████| 274/274 [00:08<00:00, 30.55it/s]\n",
      "  3%|▎         | 5/174 [00:00<00:04, 40.44it/s]"
     ]
    },
    {
     "name": "stdout",
     "output_type": "stream",
     "text": [
      "SP17-22549 HE.svs_(1.00,12113,21189,2787,3768).jpg\n"
     ]
    },
    {
     "name": "stderr",
     "output_type": "stream",
     "text": [
      "100%|██████████| 174/174 [00:04<00:00, 37.75it/s]\n",
      " 14%|█▍        | 8/57 [00:00<00:00, 72.34it/s]"
     ]
    },
    {
     "name": "stdout",
     "output_type": "stream",
     "text": [
      "SP17-22549 HE.svs_(1.00,15960,20797,2116,1984).jpg\n"
     ]
    },
    {
     "name": "stderr",
     "output_type": "stream",
     "text": [
      "100%|██████████| 57/57 [00:00<00:00, 72.35it/s]\n",
      " 17%|█▋        | 7/42 [00:00<00:00, 64.47it/s]"
     ]
    },
    {
     "name": "stdout",
     "output_type": "stream",
     "text": [
      "SP17-22549 HE.svs_(1.00,32369,9785,1661,1825).jpg\n"
     ]
    },
    {
     "name": "stderr",
     "output_type": "stream",
     "text": [
      "100%|██████████| 42/42 [00:00<00:00, 62.32it/s]\n",
      "  4%|▍         | 5/116 [00:00<00:02, 49.86it/s]"
     ]
    },
    {
     "name": "stdout",
     "output_type": "stream",
     "text": [
      "SP17-22549 HE.svs_(1.00,35070,10680,3855,2040).jpg\n"
     ]
    },
    {
     "name": "stderr",
     "output_type": "stream",
     "text": [
      "100%|██████████| 116/116 [00:02<00:00, 52.57it/s]\n",
      "  5%|▌         | 5/96 [00:00<00:01, 49.79it/s]"
     ]
    },
    {
     "name": "stdout",
     "output_type": "stream",
     "text": [
      "SP17-22549 HE.svs_(1.00,35947,17484,2479,2513).jpg\n"
     ]
    },
    {
     "name": "stderr",
     "output_type": "stream",
     "text": [
      "100%|██████████| 96/96 [00:01<00:00, 54.53it/s]\n",
      "  6%|▋         | 6/96 [00:00<00:01, 59.11it/s]"
     ]
    },
    {
     "name": "stdout",
     "output_type": "stream",
     "text": [
      "SP17-22549 HE.svs_(1.00,36007,4059,2446,2284).jpg\n"
     ]
    },
    {
     "name": "stderr",
     "output_type": "stream",
     "text": [
      "100%|██████████| 96/96 [00:01<00:00, 56.65it/s]\n",
      " 10%|█         | 7/67 [00:00<00:00, 68.22it/s]"
     ]
    },
    {
     "name": "stdout",
     "output_type": "stream",
     "text": [
      "SP17-22549 HE.svs_(1.00,37332,15841,2505,1807).jpg\n"
     ]
    },
    {
     "name": "stderr",
     "output_type": "stream",
     "text": [
      "100%|██████████| 67/67 [00:00<00:00, 70.88it/s]\n",
      "  1%|▏         | 3/215 [00:00<00:07, 29.99it/s]"
     ]
    },
    {
     "name": "stdout",
     "output_type": "stream",
     "text": [
      "SP17-22549 HE.svs_(1.00,38971,12695,3596,3452).jpg\n"
     ]
    },
    {
     "name": "stderr",
     "output_type": "stream",
     "text": [
      "100%|██████████| 215/215 [00:06<00:00, 32.86it/s]\n",
      "  5%|▍         | 5/111 [00:00<00:02, 49.52it/s]"
     ]
    },
    {
     "name": "stdout",
     "output_type": "stream",
     "text": [
      "SP17-22549 HE.svs_(1.00,40568,20360,2575,2499).jpg\n"
     ]
    },
    {
     "name": "stderr",
     "output_type": "stream",
     "text": [
      "100%|██████████| 111/111 [00:02<00:00, 47.08it/s]\n",
      "  8%|▊         | 6/76 [00:00<00:01, 54.82it/s]"
     ]
    },
    {
     "name": "stdout",
     "output_type": "stream",
     "text": [
      "SP17-22549 HE.svs_(1.00,40988,17652,2079,2003).jpg\n"
     ]
    },
    {
     "name": "stderr",
     "output_type": "stream",
     "text": [
      "100%|██████████| 76/76 [00:01<00:00, 58.77it/s]\n",
      "  8%|▊         | 6/77 [00:00<00:01, 54.42it/s]"
     ]
    },
    {
     "name": "stdout",
     "output_type": "stream",
     "text": [
      "SP17-22549 HE.svs_(1.00,43257,19635,2175,2270).jpg\n"
     ]
    },
    {
     "name": "stderr",
     "output_type": "stream",
     "text": [
      "100%|██████████| 77/77 [00:01<00:00, 62.42it/s]\n",
      "  9%|▊         | 7/81 [00:00<00:01, 63.24it/s]"
     ]
    },
    {
     "name": "stdout",
     "output_type": "stream",
     "text": [
      "SP17-22549 HE.svs_(1.00,45968,15013,2388,2176).jpg\n"
     ]
    },
    {
     "name": "stderr",
     "output_type": "stream",
     "text": [
      "100%|██████████| 81/81 [00:01<00:00, 60.89it/s]\n",
      " 14%|█▎        | 8/59 [00:00<00:00, 71.87it/s]"
     ]
    },
    {
     "name": "stdout",
     "output_type": "stream",
     "text": [
      "SP17-22549 HE.svs_(1.00,48710,14152,1926,2002).jpg\n"
     ]
    },
    {
     "name": "stderr",
     "output_type": "stream",
     "text": [
      "100%|██████████| 59/59 [00:00<00:00, 72.91it/s]\n",
      "100%|██████████| 11/11 [00:00<00:00, 77.28it/s]\n",
      "  0%|          | 0/72 [00:00<?, ?it/s]"
     ]
    },
    {
     "name": "stdout",
     "output_type": "stream",
     "text": [
      "SP17-22549 HE.svs_(1.00,57365,57520,1007,981).jpg\n",
      "SP17-22549 HE.svs_(1.00,58759,62334,2918,1393).jpg\n"
     ]
    },
    {
     "name": "stderr",
     "output_type": "stream",
     "text": [
      "100%|██████████| 72/72 [00:01<00:00, 70.79it/s]\n",
      "  5%|▌         | 6/116 [00:00<00:02, 54.45it/s]"
     ]
    },
    {
     "name": "stdout",
     "output_type": "stream",
     "text": [
      "SP17-28311 HE.svs_(1.00,15009,44633,2595,2694).jpg\n"
     ]
    },
    {
     "name": "stderr",
     "output_type": "stream",
     "text": [
      "100%|██████████| 116/116 [00:02<00:00, 56.32it/s]\n",
      "  1%|▏         | 4/273 [00:00<00:08, 32.09it/s]"
     ]
    },
    {
     "name": "stdout",
     "output_type": "stream",
     "text": [
      "SP17-28311 HE.svs_(1.00,33130,55131,5435,2882).jpg\n"
     ]
    },
    {
     "name": "stderr",
     "output_type": "stream",
     "text": [
      "100%|██████████| 273/273 [00:08<00:00, 33.00it/s]\n",
      "  2%|▏         | 4/228 [00:00<00:06, 33.35it/s]"
     ]
    },
    {
     "name": "stdout",
     "output_type": "stream",
     "text": [
      "SP17-28311 HE.svs_(1.00,35361,12571,3575,4182).jpg\n"
     ]
    },
    {
     "name": "stderr",
     "output_type": "stream",
     "text": [
      "100%|██████████| 228/228 [00:05<00:00, 38.09it/s]\n",
      "  7%|▋         | 7/96 [00:00<00:01, 62.24it/s]"
     ]
    },
    {
     "name": "stdout",
     "output_type": "stream",
     "text": [
      "SP17-28311 HE.svs_(1.00,37146,65065,2740,2622).jpg\n"
     ]
    },
    {
     "name": "stderr",
     "output_type": "stream",
     "text": [
      "100%|██████████| 96/96 [00:01<00:00, 64.18it/s]\n",
      "  4%|▍         | 6/149 [00:00<00:02, 51.11it/s]"
     ]
    },
    {
     "name": "stdout",
     "output_type": "stream",
     "text": [
      "SP17-28311 HE.svs_(1.00,37693,58337,2976,3257).jpg\n"
     ]
    },
    {
     "name": "stderr",
     "output_type": "stream",
     "text": [
      "100%|██████████| 149/149 [00:02<00:00, 50.00it/s]\n",
      "  1%|          | 3/366 [00:00<00:13, 27.39it/s]"
     ]
    },
    {
     "name": "stdout",
     "output_type": "stream",
     "text": [
      "SP17-28311 HE.svs_(1.00,50352,13191,4772,4391).jpg\n"
     ]
    },
    {
     "name": "stderr",
     "output_type": "stream",
     "text": [
      "100%|██████████| 366/366 [00:13<00:00, 28.47it/s]\n",
      " 11%|█         | 6/55 [00:00<00:00, 55.96it/s]"
     ]
    },
    {
     "name": "stdout",
     "output_type": "stream",
     "text": [
      "HP19-961 HE.svs_(1.00,10161,34720,1723,1983).jpg\n"
     ]
    },
    {
     "name": "stderr",
     "output_type": "stream",
     "text": [
      "100%|██████████| 55/55 [00:00<00:00, 58.28it/s]\n",
      "  1%|          | 3/353 [00:00<00:13, 25.14it/s]"
     ]
    },
    {
     "name": "stdout",
     "output_type": "stream",
     "text": [
      "HP19-961 HE.svs_(1.00,11189,29395,4794,4026).jpg\n"
     ]
    },
    {
     "name": "stderr",
     "output_type": "stream",
     "text": [
      "100%|██████████| 353/353 [00:13<00:00, 25.90it/s]\n",
      "  1%|          | 3/386 [00:00<00:16, 23.56it/s]"
     ]
    },
    {
     "name": "stdout",
     "output_type": "stream",
     "text": [
      "HP19-961 HE.svs_(1.00,12079,19936,4187,5909).jpg\n"
     ]
    },
    {
     "name": "stderr",
     "output_type": "stream",
     "text": [
      "100%|██████████| 386/386 [00:15<00:00, 24.40it/s]\n",
      "  9%|▉         | 7/75 [00:00<00:01, 67.84it/s]"
     ]
    },
    {
     "name": "stdout",
     "output_type": "stream",
     "text": [
      "HP19-961 HE.svs_(1.00,12923,43707,1983,2454).jpg\n"
     ]
    },
    {
     "name": "stderr",
     "output_type": "stream",
     "text": [
      "100%|██████████| 75/75 [00:01<00:00, 67.57it/s]\n",
      "  4%|▎         | 5/140 [00:00<00:02, 47.44it/s]"
     ]
    },
    {
     "name": "stdout",
     "output_type": "stream",
     "text": [
      "HP19-961 HE.svs_(1.00,13480,35451,2887,2825).jpg\n"
     ]
    },
    {
     "name": "stderr",
     "output_type": "stream",
     "text": [
      "100%|██████████| 140/140 [00:02<00:00, 48.61it/s]\n",
      "  6%|▌         | 6/109 [00:00<00:01, 58.06it/s]"
     ]
    },
    {
     "name": "stdout",
     "output_type": "stream",
     "text": [
      "HP19-961 HE.svs_(1.00,13713,48447,2510,3197).jpg\n"
     ]
    },
    {
     "name": "stderr",
     "output_type": "stream",
     "text": [
      "100%|██████████| 109/109 [00:01<00:00, 58.63it/s]\n",
      "  3%|▎         | 5/181 [00:00<00:04, 40.91it/s]"
     ]
    },
    {
     "name": "stdout",
     "output_type": "stream",
     "text": [
      "HP19-961 HE.svs_(1.00,15931,16691,3580,3135).jpg\n"
     ]
    },
    {
     "name": "stderr",
     "output_type": "stream",
     "text": [
      "100%|██████████| 181/181 [00:04<00:00, 41.07it/s]\n",
      " 11%|█▏        | 8/71 [00:00<00:00, 70.96it/s]"
     ]
    },
    {
     "name": "stdout",
     "output_type": "stream",
     "text": [
      "HP19-961 HE.svs_(1.00,18108,41481,1883,2275).jpg\n"
     ]
    },
    {
     "name": "stderr",
     "output_type": "stream",
     "text": [
      "100%|██████████| 71/71 [00:01<00:00, 70.31it/s]\n",
      " 30%|██▉       | 8/27 [00:00<00:00, 71.43it/s]"
     ]
    },
    {
     "name": "stdout",
     "output_type": "stream",
     "text": [
      "HP19-961 HE.svs_(1.00,18930,27116,1239,1425).jpg\n"
     ]
    },
    {
     "name": "stderr",
     "output_type": "stream",
     "text": [
      "100%|██████████| 27/27 [00:00<00:00, 70.87it/s]\n",
      " 18%|█▊        | 7/39 [00:00<00:00, 62.49it/s]"
     ]
    },
    {
     "name": "stdout",
     "output_type": "stream",
     "text": [
      "HP19-961 HE.svs_(1.00,19190,51052,1759,1313).jpg\n"
     ]
    },
    {
     "name": "stderr",
     "output_type": "stream",
     "text": [
      "100%|██████████| 39/39 [00:00<00:00, 62.70it/s]\n",
      " 18%|█▊        | 7/39 [00:00<00:00, 62.59it/s]"
     ]
    },
    {
     "name": "stdout",
     "output_type": "stream",
     "text": [
      "HP19-961 HE.svs_(1.00,21184,30819,1697,1388).jpg\n"
     ]
    },
    {
     "name": "stderr",
     "output_type": "stream",
     "text": [
      "100%|██████████| 39/39 [00:00<00:00, 62.84it/s]\n",
      " 22%|██▏       | 8/36 [00:00<00:00, 75.74it/s]"
     ]
    },
    {
     "name": "stdout",
     "output_type": "stream",
     "text": [
      "HP19-961 HE.svs_(1.00,24190,19785,2082,1314).jpg\n"
     ]
    },
    {
     "name": "stderr",
     "output_type": "stream",
     "text": [
      "100%|██████████| 36/36 [00:00<00:00, 72.95it/s]\n",
      "  5%|▍         | 6/132 [00:00<00:02, 52.03it/s]"
     ]
    },
    {
     "name": "stdout",
     "output_type": "stream",
     "text": [
      "HP19-961 HE.svs_(1.00,24565,51213,2280,3394).jpg\n"
     ]
    },
    {
     "name": "stderr",
     "output_type": "stream",
     "text": [
      "100%|██████████| 132/132 [00:02<00:00, 52.33it/s]\n",
      " 12%|█▎        | 8/64 [00:00<00:00, 73.47it/s]"
     ]
    },
    {
     "name": "stdout",
     "output_type": "stream",
     "text": [
      "HP19-961 HE.svs_(1.00,24712,41481,2409,1716).jpg\n"
     ]
    },
    {
     "name": "stderr",
     "output_type": "stream",
     "text": [
      "100%|██████████| 64/64 [00:00<00:00, 68.72it/s]\n",
      " 22%|██▏       | 7/32 [00:00<00:00, 68.15it/s]"
     ]
    },
    {
     "name": "stdout",
     "output_type": "stream",
     "text": [
      "HP19-961 HE.svs_(1.00,24961,28268,1487,1252).jpg\n"
     ]
    },
    {
     "name": "stderr",
     "output_type": "stream",
     "text": [
      "100%|██████████| 32/32 [00:00<00:00, 67.67it/s]\n",
      " 12%|█▏        | 6/49 [00:00<00:00, 51.67it/s]"
     ]
    },
    {
     "name": "stdout",
     "output_type": "stream",
     "text": [
      "HP19-961 HE.svs_(1.00,26967,29185,1648,1784).jpg\n"
     ]
    },
    {
     "name": "stderr",
     "output_type": "stream",
     "text": [
      "100%|██████████| 49/49 [00:00<00:00, 54.60it/s]\n",
      " 21%|██        | 7/33 [00:00<00:00, 63.30it/s]"
     ]
    },
    {
     "name": "stdout",
     "output_type": "stream",
     "text": [
      "HP19-961 HE.svs_(1.00,28875,31550,1549,1376).jpg\n"
     ]
    },
    {
     "name": "stderr",
     "output_type": "stream",
     "text": [
      "100%|██████████| 33/33 [00:00<00:00, 67.77it/s]\n",
      "  4%|▍         | 6/136 [00:00<00:02, 52.59it/s]"
     ]
    },
    {
     "name": "stdout",
     "output_type": "stream",
     "text": [
      "HP19-961 HE.svs_(1.00,31101,20862,3815,2961).jpg\n"
     ]
    },
    {
     "name": "stderr",
     "output_type": "stream",
     "text": [
      "100%|██████████| 136/136 [00:02<00:00, 50.52it/s]\n",
      "  6%|▌         | 6/102 [00:00<00:01, 56.02it/s]"
     ]
    },
    {
     "name": "stdout",
     "output_type": "stream",
     "text": [
      "HP19-961 HE.svs_(1.00,33334,48915,2716,2381).jpg\n"
     ]
    },
    {
     "name": "stderr",
     "output_type": "stream",
     "text": [
      "100%|██████████| 102/102 [00:01<00:00, 51.44it/s]\n",
      "  9%|▉         | 5/54 [00:00<00:01, 46.30it/s]"
     ]
    },
    {
     "name": "stdout",
     "output_type": "stream",
     "text": [
      "HP19-961 HE.svs_(1.00,33370,37854,1562,2131).jpg\n"
     ]
    },
    {
     "name": "stderr",
     "output_type": "stream",
     "text": [
      "100%|██████████| 54/54 [00:01<00:00, 52.19it/s]\n",
      " 44%|████▍     | 7/16 [00:00<00:00, 67.95it/s]"
     ]
    },
    {
     "name": "stdout",
     "output_type": "stream",
     "text": [
      "HP19-961 HE.svs_(1.00,34212,36690,1079,868).jpg\n"
     ]
    },
    {
     "name": "stderr",
     "output_type": "stream",
     "text": [
      "100%|██████████| 16/16 [00:00<00:00, 70.16it/s]\n",
      " 35%|███▍      | 8/23 [00:00<00:00, 79.91it/s]"
     ]
    },
    {
     "name": "stdout",
     "output_type": "stream",
     "text": [
      "HP19-961 HE.svs_(1.00,35178,35018,1091,1239).jpg\n"
     ]
    },
    {
     "name": "stderr",
     "output_type": "stream",
     "text": [
      "100%|██████████| 23/23 [00:00<00:00, 79.83it/s]\n",
      " 11%|█▏        | 6/53 [00:00<00:00, 56.97it/s]"
     ]
    },
    {
     "name": "stdout",
     "output_type": "stream",
     "text": [
      "HP19-961 HE.svs_(1.00,35510,20342,2478,1549).jpg\n"
     ]
    },
    {
     "name": "stderr",
     "output_type": "stream",
     "text": [
      "100%|██████████| 53/53 [00:00<00:00, 57.42it/s]\n",
      " 13%|█▎        | 8/61 [00:00<00:00, 76.11it/s]"
     ]
    },
    {
     "name": "stdout",
     "output_type": "stream",
     "text": [
      "HP19-961 HE.svs_(1.00,36934,57328,1995,1660).jpg\n"
     ]
    },
    {
     "name": "stderr",
     "output_type": "stream",
     "text": [
      "100%|██████████| 61/61 [00:00<00:00, 73.37it/s]\n",
      "  9%|▉         | 7/74 [00:00<00:00, 67.60it/s]"
     ]
    },
    {
     "name": "stdout",
     "output_type": "stream",
     "text": [
      "HP19-961 HE.svs_(1.00,37675,45893,2354,1871).jpg\n"
     ]
    },
    {
     "name": "stderr",
     "output_type": "stream",
     "text": [
      "100%|██████████| 74/74 [00:01<00:00, 66.33it/s]\n",
      " 23%|██▎       | 7/31 [00:00<00:00, 68.93it/s]"
     ]
    },
    {
     "name": "stdout",
     "output_type": "stream",
     "text": [
      "HP19-961 HE.svs_(1.00,37693,35389,1487,1413).jpg\n"
     ]
    },
    {
     "name": "stderr",
     "output_type": "stream",
     "text": [
      "100%|██████████| 31/31 [00:00<00:00, 67.27it/s]\n",
      " 21%|██        | 7/34 [00:00<00:00, 64.28it/s]"
     ]
    },
    {
     "name": "stdout",
     "output_type": "stream",
     "text": [
      "HP19-961 HE.svs_(1.00,37885,42582,1548,1254).jpg\n"
     ]
    },
    {
     "name": "stderr",
     "output_type": "stream",
     "text": [
      "100%|██████████| 34/34 [00:00<00:00, 64.39it/s]\n",
      " 36%|███▋      | 8/22 [00:00<00:00, 74.40it/s]"
     ]
    },
    {
     "name": "stdout",
     "output_type": "stream",
     "text": [
      "HP19-961 HE.svs_(1.00,38220,53671,1140,1425).jpg\n"
     ]
    },
    {
     "name": "stderr",
     "output_type": "stream",
     "text": [
      "100%|██████████| 22/22 [00:00<00:00, 75.44it/s]\n",
      " 20%|██        | 7/35 [00:00<00:00, 65.98it/s]"
     ]
    },
    {
     "name": "stdout",
     "output_type": "stream",
     "text": [
      "HP19-961 HE.svs_(1.00,39117,39452,1475,1586).jpg\n"
     ]
    },
    {
     "name": "stderr",
     "output_type": "stream",
     "text": [
      "100%|██████████| 35/35 [00:00<00:00, 65.56it/s]\n",
      " 14%|█▍        | 6/42 [00:00<00:00, 59.89it/s]"
     ]
    },
    {
     "name": "stdout",
     "output_type": "stream",
     "text": [
      "HP19-961 HE.svs_(1.00,40040,36835,1953,1604).jpg\n"
     ]
    },
    {
     "name": "stderr",
     "output_type": "stream",
     "text": [
      "100%|██████████| 42/42 [00:00<00:00, 58.28it/s]\n",
      " 10%|▉         | 7/72 [00:00<00:01, 64.54it/s]"
     ]
    },
    {
     "name": "stdout",
     "output_type": "stream",
     "text": [
      "HP19-961 HE.svs_(1.00,40251,53619,2174,2130).jpg\n"
     ]
    },
    {
     "name": "stderr",
     "output_type": "stream",
     "text": [
      "100%|██████████| 72/72 [00:01<00:00, 70.03it/s]\n",
      "  6%|▋         | 6/93 [00:00<00:01, 59.96it/s]"
     ]
    },
    {
     "name": "stdout",
     "output_type": "stream",
     "text": [
      "HP19-961 HE.svs_(1.00,40504,26365,2072,2710).jpg\n"
     ]
    },
    {
     "name": "stderr",
     "output_type": "stream",
     "text": [
      "100%|██████████| 93/93 [00:01<00:00, 62.40it/s]\n",
      " 12%|█▏        | 8/68 [00:00<00:00, 70.44it/s]"
     ]
    },
    {
     "name": "stdout",
     "output_type": "stream",
     "text": [
      "HP19-961 HE.svs_(1.00,41403,42601,1916,2340).jpg\n"
     ]
    },
    {
     "name": "stderr",
     "output_type": "stream",
     "text": [
      "100%|██████████| 68/68 [00:00<00:00, 71.54it/s]\n",
      " 21%|██        | 7/34 [00:00<00:00, 69.43it/s]"
     ]
    },
    {
     "name": "stdout",
     "output_type": "stream",
     "text": [
      "HP19-961 HE.svs_(1.00,44027,28638,1560,1515).jpg\n"
     ]
    },
    {
     "name": "stderr",
     "output_type": "stream",
     "text": [
      "100%|██████████| 34/34 [00:00<00:00, 66.65it/s]\n",
      " 19%|█▉        | 7/37 [00:00<00:00, 60.77it/s]"
     ]
    },
    {
     "name": "stdout",
     "output_type": "stream",
     "text": [
      "HP19-961 HE.svs_(1.00,45271,39580,1622,1401).jpg\n"
     ]
    },
    {
     "name": "stderr",
     "output_type": "stream",
     "text": [
      "100%|██████████| 37/37 [00:00<00:00, 61.49it/s]\n",
      " 12%|█▎        | 6/48 [00:00<00:00, 55.32it/s]"
     ]
    },
    {
     "name": "stdout",
     "output_type": "stream",
     "text": [
      "HP19-961 HE.svs_(1.00,46285,23079,1685,1723).jpg\n"
     ]
    },
    {
     "name": "stderr",
     "output_type": "stream",
     "text": [
      "100%|██████████| 48/48 [00:00<00:00, 54.64it/s]\n",
      "  7%|▋         | 6/81 [00:00<00:01, 57.48it/s]"
     ]
    },
    {
     "name": "stdout",
     "output_type": "stream",
     "text": [
      "HP19-961 HE.svs_(1.00,4638,31859,2081,2119).jpg\n"
     ]
    },
    {
     "name": "stderr",
     "output_type": "stream",
     "text": [
      "100%|██████████| 81/81 [00:01<00:00, 58.28it/s]\n",
      " 10%|█         | 5/50 [00:00<00:00, 46.81it/s]"
     ]
    },
    {
     "name": "stdout",
     "output_type": "stream",
     "text": [
      "HP19-961 HE.svs_(1.00,46744,45253,1493,1990).jpg\n"
     ]
    },
    {
     "name": "stderr",
     "output_type": "stream",
     "text": [
      "100%|██████████| 50/50 [00:01<00:00, 48.85it/s]\n",
      " 11%|█         | 7/63 [00:00<00:00, 63.81it/s]"
     ]
    },
    {
     "name": "stdout",
     "output_type": "stream",
     "text": [
      "HP19-961 HE.svs_(1.00,48920,57671,2193,1747).jpg\n"
     ]
    },
    {
     "name": "stderr",
     "output_type": "stream",
     "text": [
      "100%|██████████| 63/63 [00:01<00:00, 61.79it/s]\n",
      "  8%|▊         | 6/73 [00:00<00:01, 58.40it/s]"
     ]
    },
    {
     "name": "stdout",
     "output_type": "stream",
     "text": [
      "HP19-961 HE.svs_(1.00,51540,71025,2152,2057).jpg\n"
     ]
    },
    {
     "name": "stderr",
     "output_type": "stream",
     "text": [
      "100%|██████████| 73/73 [00:01<00:00, 56.77it/s]\n",
      "  7%|▋         | 6/86 [00:00<00:01, 54.25it/s]"
     ]
    },
    {
     "name": "stdout",
     "output_type": "stream",
     "text": [
      "HP19-961 HE.svs_(1.00,52086,26171,2303,2358).jpg\n"
     ]
    },
    {
     "name": "stderr",
     "output_type": "stream",
     "text": [
      "100%|██████████| 86/86 [00:01<00:00, 57.09it/s]\n",
      "  6%|▋         | 6/96 [00:00<00:01, 53.86it/s]"
     ]
    },
    {
     "name": "stdout",
     "output_type": "stream",
     "text": [
      "HP19-961 HE.svs_(1.00,52180,20491,2664,2119).jpg\n"
     ]
    },
    {
     "name": "stderr",
     "output_type": "stream",
     "text": [
      "100%|██████████| 96/96 [00:01<00:00, 50.77it/s]\n",
      " 14%|█▍        | 6/42 [00:00<00:00, 54.75it/s]"
     ]
    },
    {
     "name": "stdout",
     "output_type": "stream",
     "text": [
      "HP19-961 HE.svs_(1.00,57813,54614,1351,2057).jpg\n"
     ]
    },
    {
     "name": "stderr",
     "output_type": "stream",
     "text": [
      "100%|██████████| 42/42 [00:00<00:00, 55.08it/s]\n",
      "  5%|▌         | 5/100 [00:00<00:02, 47.23it/s]"
     ]
    },
    {
     "name": "stdout",
     "output_type": "stream",
     "text": [
      "HP19-961 HE.svs_(1.00,58695,22868,2404,2775).jpg\n"
     ]
    },
    {
     "name": "stderr",
     "output_type": "stream",
     "text": [
      "100%|██████████| 100/100 [00:02<00:00, 48.84it/s]\n",
      "  9%|▊         | 6/70 [00:00<00:01, 59.97it/s]"
     ]
    },
    {
     "name": "stdout",
     "output_type": "stream",
     "text": [
      "HP19-961 HE.svs_(1.00,59475,18521,2453,1970).jpg\n"
     ]
    },
    {
     "name": "stderr",
     "output_type": "stream",
     "text": [
      "100%|██████████| 70/70 [00:01<00:00, 60.05it/s]\n",
      " 25%|██▌       | 7/28 [00:00<00:00, 66.99it/s]"
     ]
    },
    {
     "name": "stdout",
     "output_type": "stream",
     "text": [
      "HP19-961 HE.svs_(1.00,59844,54540,1289,1277).jpg\n"
     ]
    },
    {
     "name": "stderr",
     "output_type": "stream",
     "text": [
      "100%|██████████| 28/28 [00:00<00:00, 67.78it/s]\n",
      "  1%|          | 3/311 [00:00<00:12, 25.60it/s]"
     ]
    },
    {
     "name": "stdout",
     "output_type": "stream",
     "text": [
      "HP19-961 HE.svs_(1.00,5987,27141,4745,4831).jpg\n"
     ]
    },
    {
     "name": "stderr",
     "output_type": "stream",
     "text": [
      "100%|██████████| 311/311 [00:12<00:00, 24.47it/s]\n",
      "  8%|▊         | 6/73 [00:00<00:01, 56.19it/s]"
     ]
    },
    {
     "name": "stdout",
     "output_type": "stream",
     "text": [
      "HP19-961 HE.svs_(1.00,62918,22682,2429,2540).jpg\n"
     ]
    },
    {
     "name": "stderr",
     "output_type": "stream",
     "text": [
      "100%|██████████| 73/73 [00:01<00:00, 57.42it/s]\n",
      " 14%|█▍        | 6/42 [00:00<00:00, 52.94it/s]"
     ]
    },
    {
     "name": "stdout",
     "output_type": "stream",
     "text": [
      "HP19-961 HE.svs_(1.00,64291,58602,1573,1760).jpg\n"
     ]
    },
    {
     "name": "stderr",
     "output_type": "stream",
     "text": [
      "100%|██████████| 42/42 [00:00<00:00, 55.48it/s]\n",
      " 29%|██▊       | 8/28 [00:00<00:00, 70.85it/s]"
     ]
    },
    {
     "name": "stdout",
     "output_type": "stream",
     "text": [
      "HP19-961 HE.svs_(1.00,65952,26608,1327,1301).jpg\n"
     ]
    },
    {
     "name": "stderr",
     "output_type": "stream",
     "text": [
      "100%|██████████| 28/28 [00:00<00:00, 69.92it/s]\n",
      " 21%|██        | 7/34 [00:00<00:00, 61.80it/s]"
     ]
    },
    {
     "name": "stdout",
     "output_type": "stream",
     "text": [
      "HP19-961 HE.svs_(1.00,66185,56695,1512,1524).jpg\n"
     ]
    },
    {
     "name": "stderr",
     "output_type": "stream",
     "text": [
      "100%|██████████| 34/34 [00:00<00:00, 63.17it/s]\n",
      "  9%|▉         | 5/55 [00:00<00:01, 49.70it/s]"
     ]
    },
    {
     "name": "stdout",
     "output_type": "stream",
     "text": [
      "HP19-961 HE.svs_(1.00,67984,34262,2081,1660).jpg\n"
     ]
    },
    {
     "name": "stderr",
     "output_type": "stream",
     "text": [
      "100%|██████████| 55/55 [00:01<00:00, 50.96it/s]\n",
      "  5%|▍         | 5/109 [00:00<00:02, 49.53it/s]"
     ]
    },
    {
     "name": "stdout",
     "output_type": "stream",
     "text": [
      "HP19-961 HE.svs_(1.00,68303,56794,2961,2515).jpg\n"
     ]
    },
    {
     "name": "stderr",
     "output_type": "stream",
     "text": [
      "100%|██████████| 109/109 [00:02<00:00, 50.26it/s]\n",
      " 23%|██▎       | 7/31 [00:00<00:00, 61.85it/s]"
     ]
    },
    {
     "name": "stdout",
     "output_type": "stream",
     "text": [
      "HP19-961 HE.svs_(1.00,69507,32590,1450,1388).jpg\n"
     ]
    },
    {
     "name": "stderr",
     "output_type": "stream",
     "text": [
      "100%|██████████| 31/31 [00:00<00:00, 61.34it/s]\n",
      " 29%|██▉       | 7/24 [00:00<00:00, 66.54it/s]"
     ]
    },
    {
     "name": "stdout",
     "output_type": "stream",
     "text": [
      "HP19-961 HE.svs_(1.00,70580,48622,1413,1239).jpg\n"
     ]
    },
    {
     "name": "stderr",
     "output_type": "stream",
     "text": [
      "100%|██████████| 24/24 [00:00<00:00, 66.79it/s]\n",
      " 15%|█▍        | 6/41 [00:00<00:00, 53.10it/s]"
     ]
    },
    {
     "name": "stdout",
     "output_type": "stream",
     "text": [
      "HP19-961 HE.svs_(1.00,73590,48622,1760,1636).jpg\n"
     ]
    },
    {
     "name": "stderr",
     "output_type": "stream",
     "text": [
      "100%|██████████| 41/41 [00:00<00:00, 53.29it/s]\n",
      " 13%|█▎        | 6/46 [00:00<00:00, 50.36it/s]"
     ]
    },
    {
     "name": "stdout",
     "output_type": "stream",
     "text": [
      "HP19-961 HE.svs_(1.00,75894,37451,1474,2143).jpg\n"
     ]
    },
    {
     "name": "stderr",
     "output_type": "stream",
     "text": [
      "100%|██████████| 46/46 [00:00<00:00, 51.51it/s]\n",
      " 17%|█▋        | 6/36 [00:00<00:00, 57.97it/s]"
     ]
    },
    {
     "name": "stdout",
     "output_type": "stream",
     "text": [
      "HP19-961 HE.svs_(1.00,82569,38355,1413,1809).jpg\n"
     ]
    },
    {
     "name": "stderr",
     "output_type": "stream",
     "text": [
      "100%|██████████| 36/36 [00:00<00:00, 58.43it/s]\n",
      " 11%|█         | 7/64 [00:00<00:00, 61.09it/s]"
     ]
    },
    {
     "name": "stdout",
     "output_type": "stream",
     "text": [
      "HP19-961 HE.svs_(1.00,82645,47065,1921,1908).jpg\n"
     ]
    },
    {
     "name": "stderr",
     "output_type": "stream",
     "text": [
      "100%|██████████| 64/64 [00:00<00:00, 64.01it/s]\n",
      " 11%|█         | 6/54 [00:00<00:00, 51.41it/s]"
     ]
    },
    {
     "name": "stdout",
     "output_type": "stream",
     "text": [
      "HP19-961 HE.svs_(1.00,84651,49777,2193,1561).jpg\n"
     ]
    },
    {
     "name": "stderr",
     "output_type": "stream",
     "text": [
      "100%|██████████| 54/54 [00:01<00:00, 52.60it/s]\n",
      " 12%|█▏        | 6/52 [00:00<00:00, 51.92it/s]"
     ]
    },
    {
     "name": "stdout",
     "output_type": "stream",
     "text": [
      "HP19-961 HE.svs_(1.00,85048,46086,2056,1624).jpg\n"
     ]
    },
    {
     "name": "stderr",
     "output_type": "stream",
     "text": [
      "100%|██████████| 52/52 [00:00<00:00, 52.85it/s]\n",
      " 18%|█▊        | 7/38 [00:00<00:00, 59.95it/s]"
     ]
    },
    {
     "name": "stdout",
     "output_type": "stream",
     "text": [
      "SP17-22446 HE.svs_(1.00,101464,22491,1509,1676)bv.jpg\n"
     ]
    },
    {
     "name": "stderr",
     "output_type": "stream",
     "text": [
      "100%|██████████| 38/38 [00:00<00:00, 58.48it/s]\n",
      " 10%|█         | 5/50 [00:00<00:00, 48.15it/s]"
     ]
    },
    {
     "name": "stdout",
     "output_type": "stream",
     "text": [
      "SP17-22446 HE.svs_(1.00,14582,37388,2234,1354)bv.jpg\n"
     ]
    },
    {
     "name": "stderr",
     "output_type": "stream",
     "text": [
      "100%|██████████| 50/50 [00:01<00:00, 48.99it/s]\n",
      "100%|██████████| 6/6 [00:00<00:00, 74.46it/s]\n",
      " 54%|█████▍    | 7/13 [00:00<00:00, 62.13it/s]"
     ]
    },
    {
     "name": "stdout",
     "output_type": "stream",
     "text": [
      "SP17-22446 HE.svs_(1.00,17441,40196,856,627)bv.jpg\n",
      "SP17-22446 HE.svs_(1.00,18465,39849,1278,813)bv.jpg\n"
     ]
    },
    {
     "name": "stderr",
     "output_type": "stream",
     "text": [
      "100%|██████████| 13/13 [00:00<00:00, 63.45it/s]\n",
      " 33%|███▎      | 6/18 [00:00<00:00, 55.92it/s]"
     ]
    },
    {
     "name": "stdout",
     "output_type": "stream",
     "text": [
      "SP17-22446 HE.svs_(1.00,19569,33371,1087,1191)bv.jpg\n"
     ]
    },
    {
     "name": "stderr",
     "output_type": "stream",
     "text": [
      "100%|██████████| 18/18 [00:00<00:00, 60.87it/s]\n",
      "  7%|▋         | 6/81 [00:00<00:01, 53.53it/s]"
     ]
    },
    {
     "name": "stdout",
     "output_type": "stream",
     "text": [
      "SP17-22446 HE.svs_(1.00,21386,44755,2508,1934)bv.jpg\n"
     ]
    },
    {
     "name": "stderr",
     "output_type": "stream",
     "text": [
      "100%|██████████| 81/81 [00:01<00:00, 56.11it/s]\n",
      " 29%|██▊       | 8/28 [00:00<00:00, 71.11it/s]"
     ]
    },
    {
     "name": "stdout",
     "output_type": "stream",
     "text": [
      "SP17-22446 HE.svs_(1.00,21928,20780,1134,1445)bv.jpg\n"
     ]
    },
    {
     "name": "stderr",
     "output_type": "stream",
     "text": [
      "100%|██████████| 28/28 [00:00<00:00, 70.95it/s]\n",
      " 35%|███▍      | 8/23 [00:00<00:00, 71.40it/s]"
     ]
    },
    {
     "name": "stdout",
     "output_type": "stream",
     "text": [
      "SP17-22446 HE.svs_(1.00,23800,22004,1157,1295)bv.jpg\n"
     ]
    },
    {
     "name": "stderr",
     "output_type": "stream",
     "text": [
      "100%|██████████| 23/23 [00:00<00:00, 73.95it/s]\n",
      " 12%|█▏        | 7/57 [00:00<00:00, 68.41it/s]"
     ]
    },
    {
     "name": "stdout",
     "output_type": "stream",
     "text": [
      "SP17-22446 HE.svs_(1.00,42899,12878,1933,1755)bv.jpg\n"
     ]
    },
    {
     "name": "stderr",
     "output_type": "stream",
     "text": [
      "100%|██████████| 57/57 [00:00<00:00, 67.56it/s]\n",
      "100%|██████████| 10/10 [00:00<00:00, 75.96it/s]\n",
      "  0%|          | 0/64 [00:00<?, ?it/s]"
     ]
    },
    {
     "name": "stdout",
     "output_type": "stream",
     "text": [
      "SP17-22446 HE.svs_(1.00,45963,20598,752,914)bv.jpg\n",
      "SP17-22446 HE.svs_(1.00,47419,21598,2765,1760)bv.jpg\n"
     ]
    },
    {
     "name": "stderr",
     "output_type": "stream",
     "text": [
      "100%|██████████| 64/64 [00:01<00:00, 63.42it/s]\n",
      " 12%|█▏        | 7/60 [00:00<00:00, 61.92it/s]"
     ]
    },
    {
     "name": "stdout",
     "output_type": "stream",
     "text": [
      "SP17-22446 HE.svs_(1.00,51854,20990,1752,2004)bv.jpg\n"
     ]
    },
    {
     "name": "stderr",
     "output_type": "stream",
     "text": [
      "100%|██████████| 60/60 [00:00<00:00, 61.59it/s]\n",
      "  1%|▏         | 3/232 [00:00<00:07, 28.68it/s]"
     ]
    },
    {
     "name": "stdout",
     "output_type": "stream",
     "text": [
      "SP17-22446 HE.svs_(1.00,52942,11287,3900,4450)bv.jpg\n"
     ]
    },
    {
     "name": "stderr",
     "output_type": "stream",
     "text": [
      "100%|██████████| 232/232 [00:07<00:00, 30.57it/s]\n",
      " 13%|█▎        | 6/47 [00:00<00:00, 54.85it/s]"
     ]
    },
    {
     "name": "stdout",
     "output_type": "stream",
     "text": [
      "SP17-22446 HE.svs_(1.00,56952,25832,1375,2034)bv.jpg\n"
     ]
    },
    {
     "name": "stderr",
     "output_type": "stream",
     "text": [
      "100%|██████████| 47/47 [00:00<00:00, 54.95it/s]\n",
      "  8%|▊         | 6/73 [00:00<00:01, 56.58it/s]"
     ]
    },
    {
     "name": "stdout",
     "output_type": "stream",
     "text": [
      "SP17-22446 HE.svs_(1.00,57219,20877,1903,2545)bv.jpg\n"
     ]
    },
    {
     "name": "stderr",
     "output_type": "stream",
     "text": [
      "100%|██████████| 73/73 [00:01<00:00, 58.51it/s]\n",
      " 38%|███▊      | 9/24 [00:00<00:00, 81.87it/s]"
     ]
    },
    {
     "name": "stdout",
     "output_type": "stream",
     "text": [
      "SP17-22446 HE.svs_(1.00,69919,28549,1369,1313)bv.jpg\n"
     ]
    },
    {
     "name": "stderr",
     "output_type": "stream",
     "text": [
      "100%|██████████| 24/24 [00:00<00:00, 82.17it/s]\n",
      "100%|██████████| 11/11 [00:00<00:00, 80.70it/s]\n",
      "  0%|          | 0/29 [00:00<?, ?it/s]"
     ]
    },
    {
     "name": "stdout",
     "output_type": "stream",
     "text": [
      "SP17-22446 HE.svs_(1.00,96186,21374,958,643)bv.jpg\n",
      "SP17-22446 HE.svs_(1.00,99095,23099,1588,1475)bv.jpg\n"
     ]
    },
    {
     "name": "stderr",
     "output_type": "stream",
     "text": [
      "100%|██████████| 29/29 [00:00<00:00, 76.47it/s]\n",
      " 27%|██▋       | 8/30 [00:00<00:00, 77.24it/s]"
     ]
    },
    {
     "name": "stdout",
     "output_type": "stream",
     "text": [
      "SP17-20213 HE.svs_(1.00,10561,50952,1269,1583).jpg\n"
     ]
    },
    {
     "name": "stderr",
     "output_type": "stream",
     "text": [
      "100%|██████████| 30/30 [00:00<00:00, 76.30it/s]\n",
      "  5%|▌         | 6/116 [00:00<00:01, 55.49it/s]"
     ]
    },
    {
     "name": "stdout",
     "output_type": "stream",
     "text": [
      "SP17-20213 HE.svs_(1.00,10730,55033,2673,2774).jpg\n"
     ]
    },
    {
     "name": "stderr",
     "output_type": "stream",
     "text": [
      "100%|██████████| 116/116 [00:02<00:00, 54.87it/s]\n",
      " 14%|█▍        | 8/58 [00:00<00:00, 74.51it/s]"
     ]
    },
    {
     "name": "stdout",
     "output_type": "stream",
     "text": [
      "SP17-20213 HE.svs_(1.00,11271,45127,1891,1884).jpg\n"
     ]
    },
    {
     "name": "stderr",
     "output_type": "stream",
     "text": [
      "100%|██████████| 58/58 [00:00<00:00, 67.98it/s]\n",
      " 12%|█▏        | 6/51 [00:00<00:00, 50.72it/s]"
     ]
    },
    {
     "name": "stdout",
     "output_type": "stream",
     "text": [
      "SP17-20213 HE.svs_(1.00,12740,44026,1852,1704).jpg\n"
     ]
    },
    {
     "name": "stderr",
     "output_type": "stream",
     "text": [
      "100%|██████████| 51/51 [00:00<00:00, 51.66it/s]\n",
      " 12%|█▏        | 6/52 [00:00<00:00, 52.11it/s]"
     ]
    },
    {
     "name": "stdout",
     "output_type": "stream",
     "text": [
      "SP17-20213 HE.svs_(1.00,12872,40987,1939,1805).jpg\n"
     ]
    },
    {
     "name": "stderr",
     "output_type": "stream",
     "text": [
      "100%|██████████| 52/52 [00:01<00:00, 41.03it/s]\n",
      "  2%|▏         | 4/183 [00:00<00:05, 31.65it/s]"
     ]
    },
    {
     "name": "stdout",
     "output_type": "stream",
     "text": [
      "SP17-20213 HE.svs_(1.00,15738,54095,4024,4033).jpg\n"
     ]
    },
    {
     "name": "stderr",
     "output_type": "stream",
     "text": [
      "100%|██████████| 183/183 [00:05<00:00, 32.88it/s]\n",
      " 13%|█▎        | 6/45 [00:00<00:00, 59.79it/s]"
     ]
    },
    {
     "name": "stdout",
     "output_type": "stream",
     "text": [
      "SP17-20213 HE.svs_(1.00,16247,44260,1986,1572).jpg\n"
     ]
    },
    {
     "name": "stderr",
     "output_type": "stream",
     "text": [
      "100%|██████████| 45/45 [00:00<00:00, 59.20it/s]\n",
      " 10%|▉         | 5/52 [00:00<00:01, 43.65it/s]"
     ]
    },
    {
     "name": "stdout",
     "output_type": "stream",
     "text": [
      "SP17-20213 HE.svs_(1.00,17075,41010,2134,2165).jpg\n"
     ]
    },
    {
     "name": "stderr",
     "output_type": "stream",
     "text": [
      "100%|██████████| 52/52 [00:01<00:00, 42.57it/s]\n",
      "  9%|▉         | 6/65 [00:00<00:01, 56.99it/s]"
     ]
    },
    {
     "name": "stdout",
     "output_type": "stream",
     "text": [
      "SP17-20213 HE.svs_(1.00,18949,56205,1509,2571).jpg\n"
     ]
    },
    {
     "name": "stderr",
     "output_type": "stream",
     "text": [
      "100%|██████████| 65/65 [00:01<00:00, 58.94it/s]\n",
      " 19%|█▉        | 8/42 [00:00<00:00, 72.90it/s]"
     ]
    },
    {
     "name": "stdout",
     "output_type": "stream",
     "text": [
      "SP17-20213 HE.svs_(1.00,23563,26997,1767,1642).jpg\n"
     ]
    },
    {
     "name": "stderr",
     "output_type": "stream",
     "text": [
      "100%|██████████| 42/42 [00:00<00:00, 62.25it/s]\n",
      " 12%|█▎        | 5/40 [00:00<00:00, 44.87it/s]"
     ]
    },
    {
     "name": "stdout",
     "output_type": "stream",
     "text": [
      "SP17-20213 HE.svs_(1.00,24415,51785,1374,2188).jpg\n"
     ]
    },
    {
     "name": "stderr",
     "output_type": "stream",
     "text": [
      "100%|██████████| 40/40 [00:00<00:00, 45.47it/s]\n",
      " 12%|█▏        | 5/42 [00:00<00:00, 48.80it/s]"
     ]
    },
    {
     "name": "stdout",
     "output_type": "stream",
     "text": [
      "SP17-20213 HE.svs_(1.00,26114,55228,1582,2025).jpg\n"
     ]
    },
    {
     "name": "stderr",
     "output_type": "stream",
     "text": [
      "100%|██████████| 42/42 [00:00<00:00, 61.70it/s]\n",
      "  6%|▌         | 6/100 [00:00<00:01, 58.87it/s]"
     ]
    },
    {
     "name": "stdout",
     "output_type": "stream",
     "text": [
      "SP17-20213 HE.svs_(1.00,28254,53832,2478,2362).jpg\n"
     ]
    },
    {
     "name": "stderr",
     "output_type": "stream",
     "text": [
      "100%|██████████| 100/100 [00:01<00:00, 50.95it/s]\n",
      " 32%|███▏      | 6/19 [00:00<00:00, 53.43it/s]"
     ]
    },
    {
     "name": "stdout",
     "output_type": "stream",
     "text": [
      "SP17-20213 HE.svs_(1.00,31174,38716,954,1339).jpg\n"
     ]
    },
    {
     "name": "stderr",
     "output_type": "stream",
     "text": [
      "100%|██████████| 19/19 [00:00<00:00, 57.15it/s]\n",
      " 32%|███▏      | 6/19 [00:00<00:00, 55.32it/s]"
     ]
    },
    {
     "name": "stdout",
     "output_type": "stream",
     "text": [
      "SP17-20213 HE.svs_(1.00,31627,50971,1036,1175).jpg\n"
     ]
    },
    {
     "name": "stderr",
     "output_type": "stream",
     "text": [
      "100%|██████████| 19/19 [00:00<00:00, 58.58it/s]\n",
      " 38%|███▊      | 6/16 [00:00<00:00, 59.14it/s]"
     ]
    },
    {
     "name": "stdout",
     "output_type": "stream",
     "text": [
      "SP17-20213 HE.svs_(1.00,32441,42915,909,1176).jpg\n"
     ]
    },
    {
     "name": "stderr",
     "output_type": "stream",
     "text": [
      "100%|██████████| 16/16 [00:00<00:00, 64.19it/s]\n",
      " 53%|█████▎    | 8/15 [00:00<00:00, 74.21it/s]"
     ]
    },
    {
     "name": "stdout",
     "output_type": "stream",
     "text": [
      "SP17-20213 HE.svs_(1.00,33151,52204,1001,1303).jpg\n"
     ]
    },
    {
     "name": "stderr",
     "output_type": "stream",
     "text": [
      "100%|██████████| 15/15 [00:00<00:00, 73.08it/s]\n",
      " 12%|█▏        | 7/59 [00:00<00:00, 68.32it/s]"
     ]
    },
    {
     "name": "stdout",
     "output_type": "stream",
     "text": [
      "SP17-20213 HE.svs_(1.00,34105,42997,1780,2315).jpg\n"
     ]
    },
    {
     "name": "stderr",
     "output_type": "stream",
     "text": [
      "100%|██████████| 59/59 [00:00<00:00, 67.30it/s]\n",
      " 23%|██▎       | 7/30 [00:00<00:00, 68.41it/s]"
     ]
    },
    {
     "name": "stdout",
     "output_type": "stream",
     "text": [
      "SP17-20213 HE.svs_(1.00,40272,59911,1564,1384).jpg\n"
     ]
    },
    {
     "name": "stderr",
     "output_type": "stream",
     "text": [
      "100%|██████████| 30/30 [00:00<00:00, 68.37it/s]\n",
      " 15%|█▍        | 6/41 [00:00<00:00, 52.82it/s]"
     ]
    },
    {
     "name": "stdout",
     "output_type": "stream",
     "text": [
      "SP17-20213 HE.svs_(1.00,41991,57060,1329,2079).jpg\n"
     ]
    },
    {
     "name": "stderr",
     "output_type": "stream",
     "text": [
      "100%|██████████| 41/41 [00:00<00:00, 59.28it/s]\n",
      " 39%|███▉      | 9/23 [00:00<00:00, 81.57it/s]"
     ]
    },
    {
     "name": "stdout",
     "output_type": "stream",
     "text": [
      "SP17-20213 HE.svs_(1.00,43608,54396,1157,1376).jpg\n"
     ]
    },
    {
     "name": "stderr",
     "output_type": "stream",
     "text": [
      "100%|██████████| 23/23 [00:00<00:00, 63.91it/s]\n",
      "  9%|▉         | 7/76 [00:00<00:01, 66.39it/s]"
     ]
    },
    {
     "name": "stdout",
     "output_type": "stream",
     "text": [
      "SP17-20213 HE.svs_(1.00,45771,25621,2306,1891).jpg\n"
     ]
    },
    {
     "name": "stderr",
     "output_type": "stream",
     "text": [
      "100%|██████████| 76/76 [00:01<00:00, 61.71it/s]\n",
      " 15%|█▌        | 6/39 [00:00<00:00, 55.32it/s]"
     ]
    },
    {
     "name": "stdout",
     "output_type": "stream",
     "text": [
      "SP17-20213 HE.svs_(1.00,45897,53833,1142,1947).jpg\n"
     ]
    },
    {
     "name": "stderr",
     "output_type": "stream",
     "text": [
      "100%|██████████| 39/39 [00:00<00:00, 55.72it/s]\n",
      " 10%|▉         | 5/51 [00:00<00:00, 49.46it/s]"
     ]
    },
    {
     "name": "stdout",
     "output_type": "stream",
     "text": [
      "SP17-20213 HE.svs_(1.00,45943,22980,1642,2118).jpg\n"
     ]
    },
    {
     "name": "stderr",
     "output_type": "stream",
     "text": [
      "100%|██████████| 51/51 [00:00<00:00, 60.72it/s]\n",
      "100%|██████████| 9/9 [00:00<00:00, 85.61it/s]\n",
      "  0%|          | 0/104 [00:00<?, ?it/s]"
     ]
    },
    {
     "name": "stdout",
     "output_type": "stream",
     "text": [
      "SP17-20213 HE.svs_(1.00,47561,56536,642,837).jpg\n",
      "SP17-20213 HE.svs_(1.00,48006,24339,3134,2275).jpg\n"
     ]
    },
    {
     "name": "stderr",
     "output_type": "stream",
     "text": [
      "100%|██████████| 104/104 [00:01<00:00, 59.13it/s]\n",
      "  9%|▉         | 7/80 [00:00<00:01, 68.01it/s]"
     ]
    },
    {
     "name": "stdout",
     "output_type": "stream",
     "text": [
      "SP17-20213 HE.svs_(1.00,49077,45373,2222,2619).jpg\n"
     ]
    },
    {
     "name": "stderr",
     "output_type": "stream",
     "text": [
      "100%|██████████| 80/80 [00:01<00:00, 63.85it/s]\n",
      "  9%|▉         | 5/56 [00:00<00:01, 47.60it/s]"
     ]
    },
    {
     "name": "stdout",
     "output_type": "stream",
     "text": [
      "SP17-20213 HE.svs_(1.00,49108,55036,1537,2109).jpg\n"
     ]
    },
    {
     "name": "stderr",
     "output_type": "stream",
     "text": [
      "100%|██████████| 56/56 [00:01<00:00, 47.16it/s]\n",
      "  7%|▋         | 6/91 [00:00<00:01, 54.74it/s]"
     ]
    },
    {
     "name": "stdout",
     "output_type": "stream",
     "text": [
      "SP17-20213 HE.svs_(1.00,50407,28901,2532,2258).jpg\n"
     ]
    },
    {
     "name": "stderr",
     "output_type": "stream",
     "text": [
      "100%|██████████| 91/91 [00:01<00:00, 66.35it/s]\n",
      " 39%|███▉      | 9/23 [00:00<00:00, 86.71it/s]"
     ]
    },
    {
     "name": "stdout",
     "output_type": "stream",
     "text": [
      "SP17-20213 HE.svs_(1.00,53950,42675,897,1699).jpg\n"
     ]
    },
    {
     "name": "stderr",
     "output_type": "stream",
     "text": [
      "100%|██████████| 23/23 [00:00<00:00, 78.75it/s]\n",
      " 17%|█▋        | 7/41 [00:00<00:00, 63.11it/s]"
     ]
    },
    {
     "name": "stdout",
     "output_type": "stream",
     "text": [
      "SP17-20213 HE.svs_(1.00,54144,9925,1485,1923).jpg\n"
     ]
    },
    {
     "name": "stderr",
     "output_type": "stream",
     "text": [
      "100%|██████████| 41/41 [00:00<00:00, 64.41it/s]\n",
      "  9%|▊         | 7/81 [00:00<00:01, 66.09it/s]"
     ]
    },
    {
     "name": "stdout",
     "output_type": "stream",
     "text": [
      "SP17-20213 HE.svs_(1.00,55672,47083,1711,4003).jpg\n"
     ]
    },
    {
     "name": "stderr",
     "output_type": "stream",
     "text": [
      "100%|██████████| 81/81 [00:01<00:00, 63.88it/s]\n",
      " 26%|██▌       | 7/27 [00:00<00:00, 64.49it/s]"
     ]
    },
    {
     "name": "stdout",
     "output_type": "stream",
     "text": [
      "SP17-20213 HE.svs_(1.00,56603,10924,1188,1454).jpg\n"
     ]
    },
    {
     "name": "stderr",
     "output_type": "stream",
     "text": [
      "100%|██████████| 27/27 [00:00<00:00, 64.45it/s]\n",
      " 22%|██▏       | 7/32 [00:00<00:00, 61.66it/s]"
     ]
    },
    {
     "name": "stdout",
     "output_type": "stream",
     "text": [
      "SP17-20213 HE.svs_(1.00,56928,43256,1304,1851).jpg\n"
     ]
    },
    {
     "name": "stderr",
     "output_type": "stream",
     "text": [
      "100%|██████████| 32/32 [00:00<00:00, 61.32it/s]\n",
      "  8%|▊         | 6/80 [00:00<00:01, 57.35it/s]"
     ]
    },
    {
     "name": "stdout",
     "output_type": "stream",
     "text": [
      "SP17-20213 HE.svs_(1.00,58208,45222,1734,3270).jpg\n"
     ]
    },
    {
     "name": "stderr",
     "output_type": "stream",
     "text": [
      "100%|██████████| 80/80 [00:01<00:00, 64.30it/s]\n",
      " 15%|█▍        | 7/48 [00:00<00:00, 63.50it/s]"
     ]
    },
    {
     "name": "stdout",
     "output_type": "stream",
     "text": [
      "SP17-20213 HE.svs_(1.00,59040,21457,1962,1962).jpg\n"
     ]
    },
    {
     "name": "stderr",
     "output_type": "stream",
     "text": [
      "100%|██████████| 48/48 [00:00<00:00, 64.61it/s]\n",
      " 23%|██▎       | 7/30 [00:00<00:00, 68.60it/s]"
     ]
    },
    {
     "name": "stdout",
     "output_type": "stream",
     "text": [
      "SP17-20213 HE.svs_(1.00,59863,12360,1199,1734).jpg\n"
     ]
    },
    {
     "name": "stderr",
     "output_type": "stream",
     "text": [
      "100%|██████████| 30/30 [00:00<00:00, 69.63it/s]\n",
      " 11%|█         | 6/56 [00:00<00:00, 55.47it/s]"
     ]
    },
    {
     "name": "stdout",
     "output_type": "stream",
     "text": [
      "SP17-20213 HE.svs_(1.00,64434,11802,2409,1501).jpg\n"
     ]
    },
    {
     "name": "stderr",
     "output_type": "stream",
     "text": [
      "100%|██████████| 56/56 [00:00<00:00, 56.02it/s]\n",
      " 50%|█████     | 8/16 [00:00<00:00, 73.62it/s]"
     ]
    },
    {
     "name": "stdout",
     "output_type": "stream",
     "text": [
      "SP17-20213 HE.svs_(1.00,64977,33636,947,1150).jpg\n"
     ]
    },
    {
     "name": "stderr",
     "output_type": "stream",
     "text": [
      "100%|██████████| 16/16 [00:00<00:00, 71.75it/s]\n",
      " 19%|█▉        | 7/37 [00:00<00:00, 66.24it/s]"
     ]
    },
    {
     "name": "stdout",
     "output_type": "stream",
     "text": [
      "SP17-20213 HE.svs_(1.00,65609,9499,1630,1652).jpg\n"
     ]
    },
    {
     "name": "stderr",
     "output_type": "stream",
     "text": [
      "100%|██████████| 37/37 [00:00<00:00, 61.51it/s]\n",
      " 15%|█▌        | 6/39 [00:00<00:00, 55.46it/s]"
     ]
    },
    {
     "name": "stdout",
     "output_type": "stream",
     "text": [
      "SP17-20213 HE.svs_(1.00,66118,35949,1689,1501).jpg\n"
     ]
    },
    {
     "name": "stderr",
     "output_type": "stream",
     "text": [
      "100%|██████████| 39/39 [00:00<00:00, 56.11it/s]\n",
      " 18%|█▊        | 6/33 [00:00<00:00, 58.34it/s]"
     ]
    },
    {
     "name": "stdout",
     "output_type": "stream",
     "text": [
      "SP17-20213 HE.svs_(1.00,68412,8033,1932,1513).jpg\n"
     ]
    },
    {
     "name": "stderr",
     "output_type": "stream",
     "text": [
      "100%|██████████| 33/33 [00:00<00:00, 59.05it/s]\n",
      " 18%|█▊        | 6/34 [00:00<00:00, 58.45it/s]"
     ]
    },
    {
     "name": "stdout",
     "output_type": "stream",
     "text": [
      "SP17-20213 HE.svs_(1.00,68470,34191,1680,1978).jpg\n"
     ]
    },
    {
     "name": "stderr",
     "output_type": "stream",
     "text": [
      "100%|██████████| 34/34 [00:00<00:00, 67.36it/s]\n",
      "  5%|▌         | 6/120 [00:00<00:02, 52.35it/s]"
     ]
    },
    {
     "name": "stdout",
     "output_type": "stream",
     "text": [
      "SP17-20213 HE.svs_(1.00,68750,46372,2578,3029).jpg\n"
     ]
    },
    {
     "name": "stderr",
     "output_type": "stream",
     "text": [
      "100%|██████████| 120/120 [00:02<00:00, 50.26it/s]\n",
      " 18%|█▊        | 7/39 [00:00<00:00, 62.91it/s]"
     ]
    },
    {
     "name": "stdout",
     "output_type": "stream",
     "text": [
      "SP17-20213 HE.svs_(1.00,73735,40980,1353,1751).jpg\n"
     ]
    },
    {
     "name": "stderr",
     "output_type": "stream",
     "text": [
      "100%|██████████| 39/39 [00:00<00:00, 62.48it/s]\n",
      " 14%|█▍        | 6/42 [00:00<00:00, 51.10it/s]"
     ]
    },
    {
     "name": "stdout",
     "output_type": "stream",
     "text": [
      "SP17-20213 HE.svs_(1.00,76826,39206,1564,1879).jpg\n"
     ]
    },
    {
     "name": "stderr",
     "output_type": "stream",
     "text": [
      "100%|██████████| 42/42 [00:00<00:00, 53.22it/s]\n"
     ]
    }
   ],
   "source": [
    "for fname in Patch_Files:\n",
    "    f = h5py.File(fname)\n",
    "\n",
    "    #name = fname.stem\n",
    "    count=1\n",
    "    for key in f.keys():\n",
    "        end = f[key].shape[0]\n",
    "        print(key)\n",
    "        name = key.split(\" HE\")[0]\n",
    "        for i in tqdm(range(0,end)):\n",
    "            output=\"{}/{}_{}.jpg\".format(output_directory,name,count)\n",
    "            plt.imsave(output,f[key][i,:,:,:])\n",
    "            count+=1"
   ]
  },
  {
   "cell_type": "code",
   "execution_count": 6,
   "metadata": {},
   "outputs": [
    {
     "data": {
      "text/plain": [
       "'HP19-294_Patches'"
      ]
     },
     "execution_count": 6,
     "metadata": {},
     "output_type": "execute_result"
    }
   ],
   "source": [
    "filename.stem"
   ]
  },
  {
   "cell_type": "code",
   "execution_count": null,
   "metadata": {},
   "outputs": [],
   "source": []
  }
 ],
 "metadata": {
  "kernelspec": {
   "display_name": "Python 3",
   "language": "python",
   "name": "python3"
  },
  "language_info": {
   "codemirror_mode": {
    "name": "ipython",
    "version": 3
   },
   "file_extension": ".py",
   "mimetype": "text/x-python",
   "name": "python",
   "nbconvert_exporter": "python",
   "pygments_lexer": "ipython3",
   "version": "3.7.3"
  }
 },
 "nbformat": 4,
 "nbformat_minor": 2
}
