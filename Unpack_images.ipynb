{
 "cells": [
  {
   "cell_type": "code",
   "execution_count": 1,
   "metadata": {},
   "outputs": [],
   "source": [
    "import h5py \n",
    "import numpy as np\n",
    "from pathlib import Path\n",
    "from tqdm import tqdm\n",
    "import matplotlib.pyplot as plt\n",
    "import os\n",
    "directory = \"/Users/dng/Desktop/WSI Project/FL Project INITIAL/Split_data\"\n",
    "\n",
    "filename= [\"/Users/dng/Desktop/WSI Project/FL_masks/SP19-17218 HE.svs/SP19-17218 HE_Patches.hdf5\"]\n",
    "#directory = \"/Users/dng/Desktop/WSI Project/FL Project INITIAL/FL_HG_LG/masks/High_Grade\"\n",
    "fname=Path(filename[0])\n",
    "f = h5py.File(fname)\n",
    "\n"
   ]
  },
  {
   "cell_type": "code",
   "execution_count": 2,
   "metadata": {},
   "outputs": [],
   "source": [
    "if not os.path.isdir(directory):\n",
    "    try:\n",
    "        os.mkdir(directory)\n",
    "    except OSError:\n",
    "        print (\"Creation of the directory {} failed\".format(directory))\n",
    "    else:\n",
    "        print (\"Successfully created the directory {} \".format(directory))"
   ]
  },
  {
   "cell_type": "code",
   "execution_count": 3,
   "metadata": {},
   "outputs": [
    {
     "name": "stderr",
     "output_type": "stream",
     "text": [
      "  5%|▌         | 5/98 [00:00<00:02, 44.98it/s]"
     ]
    },
    {
     "name": "stdout",
     "output_type": "stream",
     "text": [
      "SP19-17218 HE.svs_(1.00,100707,28340,6149,5376).jpg\n"
     ]
    },
    {
     "name": "stderr",
     "output_type": "stream",
     "text": [
      "100%|██████████| 98/98 [00:01<00:00, 64.08it/s]\n",
      " 24%|██▎       | 8/34 [00:00<00:00, 72.74it/s]"
     ]
    },
    {
     "name": "stdout",
     "output_type": "stream",
     "text": [
      "SP19-17218 HE.svs_(1.00,109392,24728,2710,3097).jpg\n"
     ]
    },
    {
     "name": "stderr",
     "output_type": "stream",
     "text": [
      "100%|██████████| 34/34 [00:00<00:00, 73.49it/s]\n",
      "  7%|▋         | 7/95 [00:00<00:01, 62.15it/s]"
     ]
    },
    {
     "name": "stdout",
     "output_type": "stream",
     "text": [
      "SP19-17218 HE.svs_(1.00,15189,29937,3398,8213).jpg\n"
     ]
    },
    {
     "name": "stderr",
     "output_type": "stream",
     "text": [
      "100%|██████████| 95/95 [00:01<00:00, 62.54it/s]\n",
      " 25%|██▌       | 8/32 [00:00<00:00, 75.55it/s]"
     ]
    },
    {
     "name": "stdout",
     "output_type": "stream",
     "text": [
      "SP19-17218 HE.svs_(1.00,17554,17855,2710,3398).jpg\n"
     ]
    },
    {
     "name": "stderr",
     "output_type": "stream",
     "text": [
      "100%|██████████| 32/32 [00:00<00:00, 76.87it/s]\n",
      "  8%|▊         | 7/90 [00:00<00:01, 64.01it/s]"
     ]
    },
    {
     "name": "stdout",
     "output_type": "stream",
     "text": [
      "SP19-17218 HE.svs_(1.00,26368,42735,4172,5504).jpg\n"
     ]
    },
    {
     "name": "stderr",
     "output_type": "stream",
     "text": [
      "100%|██████████| 90/90 [00:01<00:00, 68.31it/s]\n",
      "  9%|▉         | 7/74 [00:00<00:00, 69.36it/s]"
     ]
    },
    {
     "name": "stdout",
     "output_type": "stream",
     "text": [
      "SP19-17218 HE.svs_(1.00,28733,21151,2796,6708).jpg\n"
     ]
    },
    {
     "name": "stderr",
     "output_type": "stream",
     "text": [
      "100%|██████████| 74/74 [00:01<00:00, 73.52it/s]\n",
      "100%|██████████| 14/14 [00:00<00:00, 86.16it/s]\n",
      "  0%|          | 0/222 [00:00<?, ?it/s]"
     ]
    },
    {
     "name": "stdout",
     "output_type": "stream",
     "text": [
      "SP19-17218 HE.svs_(1.00,35153,29387,1533,3007).jpg\n",
      "SP19-17218 HE.svs_(1.00,37117,38392,5376,10492).jpg\n"
     ]
    },
    {
     "name": "stderr",
     "output_type": "stream",
     "text": [
      "100%|██████████| 222/222 [00:05<00:00, 38.35it/s]\n",
      " 32%|███▏      | 8/25 [00:00<00:00, 78.56it/s]"
     ]
    },
    {
     "name": "stdout",
     "output_type": "stream",
     "text": [
      "SP19-17218 HE.svs_(1.00,37926,23103,2601,3162).jpg\n"
     ]
    },
    {
     "name": "stderr",
     "output_type": "stream",
     "text": [
      "100%|██████████| 25/25 [00:00<00:00, 80.12it/s]\n",
      " 29%|██▊       | 8/28 [00:00<00:00, 77.59it/s]"
     ]
    },
    {
     "name": "stdout",
     "output_type": "stream",
     "text": [
      "SP19-17218 HE.svs_(1.00,38159,28029,1941,4210).jpg\n"
     ]
    },
    {
     "name": "stderr",
     "output_type": "stream",
     "text": [
      "100%|██████████| 28/28 [00:00<00:00, 77.84it/s]\n",
      "  3%|▎         | 5/144 [00:00<00:02, 47.33it/s]"
     ]
    },
    {
     "name": "stdout",
     "output_type": "stream",
     "text": [
      "SP19-17218 HE.svs_(1.00,41847,14286,6321,6752).jpg\n"
     ]
    },
    {
     "name": "stderr",
     "output_type": "stream",
     "text": [
      "100%|██████████| 144/144 [00:02<00:00, 51.80it/s]\n",
      " 47%|████▋     | 9/19 [00:00<00:00, 81.80it/s]"
     ]
    },
    {
     "name": "stdout",
     "output_type": "stream",
     "text": [
      "SP19-17218 HE.svs_(1.00,54959,13034,2580,1720).jpg\n"
     ]
    },
    {
     "name": "stderr",
     "output_type": "stream",
     "text": [
      "100%|██████████| 19/19 [00:00<00:00, 82.37it/s]\n",
      " 20%|██        | 7/35 [00:00<00:00, 66.39it/s]"
     ]
    },
    {
     "name": "stdout",
     "output_type": "stream",
     "text": [
      "SP19-17218 HE.svs_(1.00,55561,58867,3053,2495).jpg\n"
     ]
    },
    {
     "name": "stderr",
     "output_type": "stream",
     "text": [
      "100%|██████████| 35/35 [00:00<00:00, 71.37it/s]\n",
      " 27%|██▋       | 8/30 [00:00<00:00, 76.94it/s]"
     ]
    },
    {
     "name": "stdout",
     "output_type": "stream",
     "text": [
      "SP19-17218 HE.svs_(1.00,60677,63812,3785,2323).jpg\n"
     ]
    },
    {
     "name": "stderr",
     "output_type": "stream",
     "text": [
      "100%|██████████| 30/30 [00:00<00:00, 78.10it/s]\n",
      " 26%|██▌       | 8/31 [00:00<00:00, 74.42it/s]"
     ]
    },
    {
     "name": "stdout",
     "output_type": "stream",
     "text": [
      "SP19-17218 HE.svs_(1.00,63773,42830,2452,4042).jpg\n"
     ]
    },
    {
     "name": "stderr",
     "output_type": "stream",
     "text": [
      "100%|██████████| 31/31 [00:00<00:00, 76.30it/s]\n",
      " 21%|██        | 7/34 [00:00<00:00, 66.42it/s]"
     ]
    },
    {
     "name": "stdout",
     "output_type": "stream",
     "text": [
      "SP19-17218 HE.svs_(1.00,63902,37713,3269,2968).jpg\n"
     ]
    },
    {
     "name": "stderr",
     "output_type": "stream",
     "text": [
      "100%|██████████| 34/34 [00:00<00:00, 69.66it/s]\n",
      "  8%|▊         | 7/90 [00:00<00:01, 61.79it/s]"
     ]
    },
    {
     "name": "stdout",
     "output_type": "stream",
     "text": [
      "SP19-17218 HE.svs_(1.00,71512,10196,5892,4515).jpg\n"
     ]
    },
    {
     "name": "stderr",
     "output_type": "stream",
     "text": [
      "100%|██████████| 90/90 [00:01<00:00, 64.36it/s]\n",
      " 25%|██▌       | 8/32 [00:00<00:00, 73.89it/s]"
     ]
    },
    {
     "name": "stdout",
     "output_type": "stream",
     "text": [
      "SP19-17218 HE.svs_(1.00,73103,50655,2796,3914).jpg\n"
     ]
    },
    {
     "name": "stderr",
     "output_type": "stream",
     "text": [
      "100%|██████████| 32/32 [00:00<00:00, 72.52it/s]\n",
      "100%|██████████| 11/11 [00:00<00:00, 93.82it/s]\n",
      "  0%|          | 0/12 [00:00<?, ?it/s]"
     ]
    },
    {
     "name": "stdout",
     "output_type": "stream",
     "text": [
      "SP19-17218 HE.svs_(1.00,81272,30705,1463,2581).jpg\n",
      "SP19-17218 HE.svs_(1.00,84325,29458,1506,2839).jpg\n"
     ]
    },
    {
     "name": "stderr",
     "output_type": "stream",
     "text": [
      "100%|██████████| 12/12 [00:00<00:00, 85.82it/s]\n",
      "  7%|▋         | 6/89 [00:00<00:01, 57.23it/s]"
     ]
    },
    {
     "name": "stdout",
     "output_type": "stream",
     "text": [
      "SP19-17218 HE.svs_(1.00,85099,38229,4344,5849).jpg\n"
     ]
    },
    {
     "name": "stderr",
     "output_type": "stream",
     "text": [
      "100%|██████████| 89/89 [00:01<00:00, 62.07it/s]\n",
      "  7%|▋         | 6/90 [00:00<00:01, 59.45it/s]"
     ]
    },
    {
     "name": "stdout",
     "output_type": "stream",
     "text": [
      "SP19-17218 HE.svs_(1.00,85142,26448,5676,4860).jpg\n"
     ]
    },
    {
     "name": "stderr",
     "output_type": "stream",
     "text": [
      "100%|██████████| 90/90 [00:01<00:00, 58.41it/s]\n",
      "  8%|▊         | 6/76 [00:00<00:01, 58.89it/s]"
     ]
    },
    {
     "name": "stdout",
     "output_type": "stream",
     "text": [
      "SP19-17218 HE.svs_(1.00,88066,14151,5676,3269).jpg\n"
     ]
    },
    {
     "name": "stderr",
     "output_type": "stream",
     "text": [
      "100%|██████████| 76/76 [00:01<00:00, 55.90it/s]\n",
      "  9%|▉         | 7/79 [00:00<00:01, 65.74it/s]"
     ]
    },
    {
     "name": "stdout",
     "output_type": "stream",
     "text": [
      "SP19-17218 HE.svs_(1.00,88152,19741,5160,4000).jpg\n"
     ]
    },
    {
     "name": "stderr",
     "output_type": "stream",
     "text": [
      "100%|██████████| 79/79 [00:01<00:00, 71.53it/s]\n",
      " 19%|█▉        | 7/37 [00:00<00:00, 63.45it/s]"
     ]
    },
    {
     "name": "stdout",
     "output_type": "stream",
     "text": [
      "SP19-17218 HE.svs_(1.00,95891,32511,2753,3741).jpg\n"
     ]
    },
    {
     "name": "stderr",
     "output_type": "stream",
     "text": [
      "100%|██████████| 37/37 [00:00<00:00, 70.03it/s]\n"
     ]
    }
   ],
   "source": [
    "name = fname.stem\n",
    "count=1\n",
    "for key in f.keys():\n",
    "    end = f[key].shape[0]\n",
    "    print(key)\n",
    "    for i in tqdm(range(0,end)):\n",
    "        output=\"{}/{}_{}.jpg\".format(directory,name,count)\n",
    "        plt.imsave(output,f[key][i,:,:,:])\n",
    "        count+=1"
   ]
  },
  {
   "cell_type": "code",
   "execution_count": 4,
   "metadata": {},
   "outputs": [
    {
     "ename": "AttributeError",
     "evalue": "'list' object has no attribute 'stem'",
     "output_type": "error",
     "traceback": [
      "\u001b[0;31m---------------------------------------------------------------------------\u001b[0m",
      "\u001b[0;31mAttributeError\u001b[0m                            Traceback (most recent call last)",
      "\u001b[0;32m<ipython-input-4-1e241aa111f1>\u001b[0m in \u001b[0;36m<module>\u001b[0;34m\u001b[0m\n\u001b[0;32m----> 1\u001b[0;31m \u001b[0mfilename\u001b[0m\u001b[0;34m.\u001b[0m\u001b[0mstem\u001b[0m\u001b[0;34m\u001b[0m\u001b[0;34m\u001b[0m\u001b[0m\n\u001b[0m",
      "\u001b[0;31mAttributeError\u001b[0m: 'list' object has no attribute 'stem'"
     ]
    }
   ],
   "source": [
    "filename.stem"
   ]
  },
  {
   "cell_type": "code",
   "execution_count": null,
   "metadata": {},
   "outputs": [],
   "source": []
  }
 ],
 "metadata": {
  "kernelspec": {
   "display_name": "Python 3",
   "language": "python",
   "name": "python3"
  },
  "language_info": {
   "codemirror_mode": {
    "name": "ipython",
    "version": 3
   },
   "file_extension": ".py",
   "mimetype": "text/x-python",
   "name": "python",
   "nbconvert_exporter": "python",
   "pygments_lexer": "ipython3",
   "version": "3.7.3"
  }
 },
 "nbformat": 4,
 "nbformat_minor": 2
}
