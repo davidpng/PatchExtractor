{
 "cells": [
  {
   "cell_type": "markdown",
   "metadata": {},
   "source": [
    "This notebook will take a directory of patch images and split them as follows\n",
    "/train/lg\n",
    "/train/hg\n",
    "/val/lg\n",
    "/val/hg"
   ]
  },
  {
   "cell_type": "code",
   "execution_count": 1,
   "metadata": {},
   "outputs": [],
   "source": [
    "from sklearn.model_selection import train_test_split\n",
    "from pathlib import Path\n",
    "import pandas as pd\n",
    "patch_directory = \"/Users/dng/Desktop/WSI Project/FL_Patches\"\n",
    "patch_directory=Path(patch_directory)\n",
    "\n",
    "base_directory = \"/Users/dng/Desktop/WSI Project/FL_Patches_Split_data\"\n",
    "base_directory = Path(base_directory)\n",
    "folder_dict = {\"train_lg\": \"train/lg/\",\n",
    "               \"train_hg\": \"train/hg/\",\n",
    "                \"val_lg\": \"val/lg/\",\n",
    "                \"val_hg\": \"val/hg\"}\n",
    "\n"
   ]
  },
  {
   "cell_type": "code",
   "execution_count": 2,
   "metadata": {},
   "outputs": [],
   "source": [
    "for folder in folder_dict.keys():\n",
    "    to_make=base_directory.joinpath(folder_dict[folder])\n",
    "    to_make.mkdir(parents=True,exist_ok=True)"
   ]
  },
  {
   "cell_type": "code",
   "execution_count": 5,
   "metadata": {},
   "outputs": [
    {
     "name": "stdout",
     "output_type": "stream",
     "text": [
      "['SP17-28311', 'HP19-341', 'HP19-294', 'SP17-20213', 'SP17-22549', 'HP19-961', 'SP17-22446']\n"
     ]
    }
   ],
   "source": [
    "unique_files=[]\n",
    "for f in patch_directory.glob(\"*.jpg\"):\n",
    "    filename = f.stem.split(\"_\")[0]\n",
    "    if filename not in unique_files:\n",
    "        unique_files.append(filename)\n",
    "\n",
    "print(unique_files)"
   ]
  },
  {
   "cell_type": "code",
   "execution_count": 7,
   "metadata": {},
   "outputs": [],
   "source": [
    "decoder = {\"HP19-294\":\"HG\",\n",
    "          \"HP19-341\":\"LG\",\n",
    "          'SP17-28311':\"LG\",\n",
    "           'SP17-20213':\"LG\",\n",
    "           'SP17-22549':\"LG\",\n",
    "           'HP19-961':\"LG\",\n",
    "           'SP17-22446':\"LG\" }"
   ]
  },
  {
   "cell_type": "code",
   "execution_count": 8,
   "metadata": {},
   "outputs": [],
   "source": [
    "db = []\n",
    "#this will include only files that we can classify!!!!\n",
    "for f in patch_directory.glob(\"*.jpg\"):\n",
    "    for name in decoder.keys():\n",
    "        if name in f.stem:\n",
    "            to_add = {\"path\":f,\n",
    "                     \"classification\":decoder[name]}\n",
    "            db.append(to_add)\n",
    "            break\n",
    "\n"
   ]
  },
  {
   "cell_type": "code",
   "execution_count": 9,
   "metadata": {},
   "outputs": [],
   "source": [
    "db = pd.DataFrame(db)"
   ]
  },
  {
   "cell_type": "code",
   "execution_count": 11,
   "metadata": {},
   "outputs": [],
   "source": [
    "Data_train, Data_val, Label_train, Label_val = train_test_split(db.path, \n",
    "                                                                db.classification, \n",
    "                                                                test_size=0.15, \n",
    "                                                                random_state=64)"
   ]
  },
  {
   "cell_type": "code",
   "execution_count": 13,
   "metadata": {},
   "outputs": [
    {
     "data": {
      "text/plain": [
       "((13481, 2), (2380, 2))"
      ]
     },
     "execution_count": 13,
     "metadata": {},
     "output_type": "execute_result"
    }
   ],
   "source": [
    "db_train = pd.concat([Data_train,Label_train],axis=1)\n",
    "db_val = pd.concat([Data_val,Label_val],axis=1)\n",
    "db_train.shape, db_val.shape"
   ]
  },
  {
   "cell_type": "code",
   "execution_count": 14,
   "metadata": {},
   "outputs": [],
   "source": [
    "import shutil\n",
    "\n",
    "def copy_files(row,target):\n",
    "    if row['classification'] is \"HG\":\n",
    "        shutil.copy(row['path'],target / \"hg\")\n",
    "    elif row['classification'] is \"LG\":\n",
    "        shutil.copy(row['path'],target / \"lg\")\n",
    "    else: #failsafe condition to find cases that may have gotten in\n",
    "        shutil.copy(row['path'],target / \"unknown\")\n"
   ]
  },
  {
   "cell_type": "code",
   "execution_count": 15,
   "metadata": {},
   "outputs": [],
   "source": [
    "temp = db_train.apply(copy_files,axis=1,target = base_directory / \"train\")"
   ]
  },
  {
   "cell_type": "code",
   "execution_count": 16,
   "metadata": {},
   "outputs": [],
   "source": [
    "temp = db_val.apply(copy_files,axis=1,target = base_directory / \"val\")"
   ]
  },
  {
   "cell_type": "code",
   "execution_count": 106,
   "metadata": {},
   "outputs": [
    {
     "data": {
      "text/plain": [
       "((2337, 2), (1152, 2))"
      ]
     },
     "execution_count": 106,
     "metadata": {},
     "output_type": "execute_result"
    }
   ],
   "source": []
  },
  {
   "cell_type": "code",
   "execution_count": 133,
   "metadata": {},
   "outputs": [
    {
     "data": {
      "text/plain": [
       "[]"
      ]
     },
     "execution_count": 133,
     "metadata": {},
     "output_type": "execute_result"
    }
   ],
   "source": []
  },
  {
   "cell_type": "code",
   "execution_count": null,
   "metadata": {},
   "outputs": [],
   "source": []
  }
 ],
 "metadata": {
  "kernelspec": {
   "display_name": "Python 3",
   "language": "python",
   "name": "python3"
  },
  "language_info": {
   "codemirror_mode": {
    "name": "ipython",
    "version": 3
   },
   "file_extension": ".py",
   "mimetype": "text/x-python",
   "name": "python",
   "nbconvert_exporter": "python",
   "pygments_lexer": "ipython3",
   "version": "3.7.3"
  }
 },
 "nbformat": 4,
 "nbformat_minor": 2
}
