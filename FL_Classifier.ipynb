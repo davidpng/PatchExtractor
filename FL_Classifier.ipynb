{
 "cells": [
  {
   "cell_type": "code",
   "execution_count": 1,
   "metadata": {},
   "outputs": [],
   "source": [
    "import os, cv2, random\n",
    "import numpy as np\n",
    "import h5py\n",
    "import pandas as pd\n",
    "import matplotlib.pyplot as plt\n",
    "from sklearn.model_selection import train_test_split"
   ]
  },
  {
   "cell_type": "code",
   "execution_count": 2,
   "metadata": {},
   "outputs": [],
   "source": [
    "def upload_patches(filename, verbose = False):\n",
    "    f = h5py.File(filename,'r')\n",
    "    num_patches=0\n",
    "    patch_list = []\n",
    "\n",
    "    for key in f.keys():\n",
    "        if verbose:\n",
    "            print(key)\n",
    "            print(f[key].shape)\n",
    "        num_patches+=f[key].shape[0]\n",
    "        patch_list.append(f[key][()])\n",
    "    if verbose:\n",
    "        print(\"Number of Patches: {}\".format(num_patches))\n",
    "    f.close()\n",
    "    return np.concatenate(patch_list,axis=0)\n"
   ]
  },
  {
   "cell_type": "code",
   "execution_count": null,
   "metadata": {},
   "outputs": [],
   "source": []
  }
 ],
 "metadata": {
  "kernelspec": {
   "display_name": "Python 3",
   "language": "python",
   "name": "python3"
  },
  "language_info": {
   "codemirror_mode": {
    "name": "ipython",
    "version": 3
   },
   "file_extension": ".py",
   "mimetype": "text/x-python",
   "name": "python",
   "nbconvert_exporter": "python",
   "pygments_lexer": "ipython3",
   "version": "3.7.3"
  }
 },
 "nbformat": 4,
 "nbformat_minor": 2
}
